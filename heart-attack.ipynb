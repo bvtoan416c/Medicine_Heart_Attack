{
 "cells": [
  {
   "cell_type": "markdown",
   "id": "298233e1",
   "metadata": {
    "_cell_guid": "b1076dfc-b9ad-4769-8c92-a6c4dae69d19",
    "_uuid": "8f2839f25d086af736a60e9eeb907d3b93b6e0e5",
    "papermill": {
     "duration": 0.017335,
     "end_time": "2023-01-24T08:24:11.107824",
     "exception": false,
     "start_time": "2023-01-24T08:24:11.090489",
     "status": "completed"
    },
    "tags": []
   },
   "source": [
    "# Heart Attack\n"
   ]
  },
  {
   "cell_type": "markdown",
   "id": "cfa1bd98",
   "metadata": {
    "papermill": {
     "duration": 0.016077,
     "end_time": "2023-01-24T08:24:11.141039",
     "exception": false,
     "start_time": "2023-01-24T08:24:11.124962",
     "status": "completed"
    },
    "tags": []
   },
   "source": [
    "## Import and Load Libraries"
   ]
  },
  {
   "cell_type": "code",
   "execution_count": 1,
   "id": "b6461cd6",
   "metadata": {
    "execution": {
     "iopub.execute_input": "2023-01-24T08:24:11.177740Z",
     "iopub.status.busy": "2023-01-24T08:24:11.176047Z",
     "iopub.status.idle": "2023-01-24T08:24:12.535497Z",
     "shell.execute_reply": "2023-01-24T08:24:12.533972Z"
    },
    "papermill": {
     "duration": 1.380395,
     "end_time": "2023-01-24T08:24:12.538086",
     "exception": false,
     "start_time": "2023-01-24T08:24:11.157691",
     "status": "completed"
    },
    "tags": []
   },
   "outputs": [],
   "source": [
    "import numpy as np\n",
    "import pandas as pd\n",
    "import matplotlib.pyplot as plt\n",
    "import seaborn as sns\n",
    "from sklearn.model_selection import train_test_split\n",
    "from sklearn.linear_model import LogisticRegression\n",
    "from sklearn import metrics\n",
    "from sklearn.neighbors import KNeighborsClassifier\n",
    "from sklearn.metrics import classification_report, confusion_matrix, accuracy_score\n",
    "from sklearn.ensemble import RandomForestClassifier\n",
    "from sklearn import tree\n",
    "from sklearn.tree import DecisionTreeClassifier\n",
    "from sklearn.svm import SVC"
   ]
  },
  {
   "cell_type": "code",
   "execution_count": 2,
   "id": "358521c5",
   "metadata": {
    "execution": {
     "iopub.execute_input": "2023-01-24T08:24:12.573105Z",
     "iopub.status.busy": "2023-01-24T08:24:12.572717Z",
     "iopub.status.idle": "2023-01-24T08:24:12.607419Z",
     "shell.execute_reply": "2023-01-24T08:24:12.606362Z"
    },
    "papermill": {
     "duration": 0.055136,
     "end_time": "2023-01-24T08:24:12.609771",
     "exception": false,
     "start_time": "2023-01-24T08:24:12.554635",
     "status": "completed"
    },
    "tags": []
   },
   "outputs": [
    {
     "data": {
      "text/html": [
       "<div>\n",
       "<style scoped>\n",
       "    .dataframe tbody tr th:only-of-type {\n",
       "        vertical-align: middle;\n",
       "    }\n",
       "\n",
       "    .dataframe tbody tr th {\n",
       "        vertical-align: top;\n",
       "    }\n",
       "\n",
       "    .dataframe thead th {\n",
       "        text-align: right;\n",
       "    }\n",
       "</style>\n",
       "<table border=\"1\" class=\"dataframe\">\n",
       "  <thead>\n",
       "    <tr style=\"text-align: right;\">\n",
       "      <th></th>\n",
       "      <th>age</th>\n",
       "      <th>sex</th>\n",
       "      <th>cp</th>\n",
       "      <th>trtbps</th>\n",
       "      <th>chol</th>\n",
       "      <th>fbs</th>\n",
       "      <th>restecg</th>\n",
       "      <th>thalachh</th>\n",
       "      <th>exng</th>\n",
       "      <th>oldpeak</th>\n",
       "      <th>slp</th>\n",
       "      <th>caa</th>\n",
       "      <th>thall</th>\n",
       "      <th>output</th>\n",
       "    </tr>\n",
       "  </thead>\n",
       "  <tbody>\n",
       "    <tr>\n",
       "      <th>0</th>\n",
       "      <td>63</td>\n",
       "      <td>1</td>\n",
       "      <td>3</td>\n",
       "      <td>145</td>\n",
       "      <td>233</td>\n",
       "      <td>1</td>\n",
       "      <td>0</td>\n",
       "      <td>150</td>\n",
       "      <td>0</td>\n",
       "      <td>2.3</td>\n",
       "      <td>0</td>\n",
       "      <td>0</td>\n",
       "      <td>1</td>\n",
       "      <td>1</td>\n",
       "    </tr>\n",
       "    <tr>\n",
       "      <th>1</th>\n",
       "      <td>37</td>\n",
       "      <td>1</td>\n",
       "      <td>2</td>\n",
       "      <td>130</td>\n",
       "      <td>250</td>\n",
       "      <td>0</td>\n",
       "      <td>1</td>\n",
       "      <td>187</td>\n",
       "      <td>0</td>\n",
       "      <td>3.5</td>\n",
       "      <td>0</td>\n",
       "      <td>0</td>\n",
       "      <td>2</td>\n",
       "      <td>1</td>\n",
       "    </tr>\n",
       "    <tr>\n",
       "      <th>2</th>\n",
       "      <td>41</td>\n",
       "      <td>0</td>\n",
       "      <td>1</td>\n",
       "      <td>130</td>\n",
       "      <td>204</td>\n",
       "      <td>0</td>\n",
       "      <td>0</td>\n",
       "      <td>172</td>\n",
       "      <td>0</td>\n",
       "      <td>1.4</td>\n",
       "      <td>2</td>\n",
       "      <td>0</td>\n",
       "      <td>2</td>\n",
       "      <td>1</td>\n",
       "    </tr>\n",
       "    <tr>\n",
       "      <th>3</th>\n",
       "      <td>56</td>\n",
       "      <td>1</td>\n",
       "      <td>1</td>\n",
       "      <td>120</td>\n",
       "      <td>236</td>\n",
       "      <td>0</td>\n",
       "      <td>1</td>\n",
       "      <td>178</td>\n",
       "      <td>0</td>\n",
       "      <td>0.8</td>\n",
       "      <td>2</td>\n",
       "      <td>0</td>\n",
       "      <td>2</td>\n",
       "      <td>1</td>\n",
       "    </tr>\n",
       "    <tr>\n",
       "      <th>4</th>\n",
       "      <td>57</td>\n",
       "      <td>0</td>\n",
       "      <td>0</td>\n",
       "      <td>120</td>\n",
       "      <td>354</td>\n",
       "      <td>0</td>\n",
       "      <td>1</td>\n",
       "      <td>163</td>\n",
       "      <td>1</td>\n",
       "      <td>0.6</td>\n",
       "      <td>2</td>\n",
       "      <td>0</td>\n",
       "      <td>2</td>\n",
       "      <td>1</td>\n",
       "    </tr>\n",
       "  </tbody>\n",
       "</table>\n",
       "</div>"
      ],
      "text/plain": [
       "   age  sex  cp  trtbps  chol  fbs  restecg  thalachh  exng  oldpeak  slp  \\\n",
       "0   63    1   3     145   233    1        0       150     0      2.3    0   \n",
       "1   37    1   2     130   250    0        1       187     0      3.5    0   \n",
       "2   41    0   1     130   204    0        0       172     0      1.4    2   \n",
       "3   56    1   1     120   236    0        1       178     0      0.8    2   \n",
       "4   57    0   0     120   354    0        1       163     1      0.6    2   \n",
       "\n",
       "   caa  thall  output  \n",
       "0    0      1       1  \n",
       "1    0      2       1  \n",
       "2    0      2       1  \n",
       "3    0      2       1  \n",
       "4    0      2       1  "
      ]
     },
     "execution_count": 2,
     "metadata": {},
     "output_type": "execute_result"
    }
   ],
   "source": [
    "# Importing Data Set\n",
    "df=pd.read_csv('/kaggle/input/heart-1/heart.csv')\n",
    "df.head(5)"
   ]
  },
  {
   "cell_type": "markdown",
   "id": "0e346094",
   "metadata": {
    "papermill": {
     "duration": 0.016919,
     "end_time": "2023-01-24T08:24:12.643400",
     "exception": false,
     "start_time": "2023-01-24T08:24:12.626481",
     "status": "completed"
    },
    "tags": []
   },
   "source": [
    "**Check Row and Columns**"
   ]
  },
  {
   "cell_type": "code",
   "execution_count": 3,
   "id": "063effe9",
   "metadata": {
    "execution": {
     "iopub.execute_input": "2023-01-24T08:24:12.678522Z",
     "iopub.status.busy": "2023-01-24T08:24:12.677939Z",
     "iopub.status.idle": "2023-01-24T08:24:12.684626Z",
     "shell.execute_reply": "2023-01-24T08:24:12.683378Z"
    },
    "papermill": {
     "duration": 0.02663,
     "end_time": "2023-01-24T08:24:12.686776",
     "exception": false,
     "start_time": "2023-01-24T08:24:12.660146",
     "status": "completed"
    },
    "tags": []
   },
   "outputs": [
    {
     "data": {
      "text/plain": [
       "(303, 14)"
      ]
     },
     "execution_count": 3,
     "metadata": {},
     "output_type": "execute_result"
    }
   ],
   "source": [
    "\n",
    "df.shape"
   ]
  },
  {
   "cell_type": "markdown",
   "id": "d1496bde",
   "metadata": {
    "papermill": {
     "duration": 0.01676,
     "end_time": "2023-01-24T08:24:12.720580",
     "exception": false,
     "start_time": "2023-01-24T08:24:12.703820",
     "status": "completed"
    },
    "tags": []
   },
   "source": [
    "**Check Columns Name**"
   ]
  },
  {
   "cell_type": "code",
   "execution_count": 4,
   "id": "4549bd38",
   "metadata": {
    "execution": {
     "iopub.execute_input": "2023-01-24T08:24:12.756265Z",
     "iopub.status.busy": "2023-01-24T08:24:12.755897Z",
     "iopub.status.idle": "2023-01-24T08:24:12.763195Z",
     "shell.execute_reply": "2023-01-24T08:24:12.761842Z"
    },
    "papermill": {
     "duration": 0.028234,
     "end_time": "2023-01-24T08:24:12.765706",
     "exception": false,
     "start_time": "2023-01-24T08:24:12.737472",
     "status": "completed"
    },
    "tags": []
   },
   "outputs": [
    {
     "data": {
      "text/plain": [
       "Index(['age', 'sex', 'cp', 'trtbps', 'chol', 'fbs', 'restecg', 'thalachh',\n",
       "       'exng', 'oldpeak', 'slp', 'caa', 'thall', 'output'],\n",
       "      dtype='object')"
      ]
     },
     "execution_count": 4,
     "metadata": {},
     "output_type": "execute_result"
    }
   ],
   "source": [
    "df.columns"
   ]
  },
  {
   "cell_type": "markdown",
   "id": "659aeb5c",
   "metadata": {
    "execution": {
     "iopub.execute_input": "2023-01-24T07:35:56.445641Z",
     "iopub.status.busy": "2023-01-24T07:35:56.445253Z",
     "iopub.status.idle": "2023-01-24T07:35:56.452779Z",
     "shell.execute_reply": "2023-01-24T07:35:56.451322Z",
     "shell.execute_reply.started": "2023-01-24T07:35:56.445612Z"
    },
    "papermill": {
     "duration": 0.020549,
     "end_time": "2023-01-24T08:24:12.804704",
     "exception": false,
     "start_time": "2023-01-24T08:24:12.784155",
     "status": "completed"
    },
    "tags": []
   },
   "source": [
    "**Check Type and Null Values**"
   ]
  },
  {
   "cell_type": "code",
   "execution_count": 5,
   "id": "cfa38adf",
   "metadata": {
    "execution": {
     "iopub.execute_input": "2023-01-24T08:24:12.849958Z",
     "iopub.status.busy": "2023-01-24T08:24:12.849364Z",
     "iopub.status.idle": "2023-01-24T08:24:12.871843Z",
     "shell.execute_reply": "2023-01-24T08:24:12.871131Z"
    },
    "papermill": {
     "duration": 0.043488,
     "end_time": "2023-01-24T08:24:12.873908",
     "exception": false,
     "start_time": "2023-01-24T08:24:12.830420",
     "status": "completed"
    },
    "tags": []
   },
   "outputs": [
    {
     "name": "stdout",
     "output_type": "stream",
     "text": [
      "<class 'pandas.core.frame.DataFrame'>\n",
      "RangeIndex: 303 entries, 0 to 302\n",
      "Data columns (total 14 columns):\n",
      " #   Column    Non-Null Count  Dtype  \n",
      "---  ------    --------------  -----  \n",
      " 0   age       303 non-null    int64  \n",
      " 1   sex       303 non-null    int64  \n",
      " 2   cp        303 non-null    int64  \n",
      " 3   trtbps    303 non-null    int64  \n",
      " 4   chol      303 non-null    int64  \n",
      " 5   fbs       303 non-null    int64  \n",
      " 6   restecg   303 non-null    int64  \n",
      " 7   thalachh  303 non-null    int64  \n",
      " 8   exng      303 non-null    int64  \n",
      " 9   oldpeak   303 non-null    float64\n",
      " 10  slp       303 non-null    int64  \n",
      " 11  caa       303 non-null    int64  \n",
      " 12  thall     303 non-null    int64  \n",
      " 13  output    303 non-null    int64  \n",
      "dtypes: float64(1), int64(13)\n",
      "memory usage: 33.3 KB\n"
     ]
    }
   ],
   "source": [
    "df.info()"
   ]
  },
  {
   "cell_type": "markdown",
   "id": "499d1183",
   "metadata": {
    "papermill": {
     "duration": 0.017189,
     "end_time": "2023-01-24T08:24:12.908896",
     "exception": false,
     "start_time": "2023-01-24T08:24:12.891707",
     "status": "completed"
    },
    "tags": []
   },
   "source": [
    "**Count Unique Values Of Variables**"
   ]
  },
  {
   "cell_type": "code",
   "execution_count": 6,
   "id": "fadff60b",
   "metadata": {
    "execution": {
     "iopub.execute_input": "2023-01-24T08:24:12.945679Z",
     "iopub.status.busy": "2023-01-24T08:24:12.945279Z",
     "iopub.status.idle": "2023-01-24T08:24:12.959748Z",
     "shell.execute_reply": "2023-01-24T08:24:12.958221Z"
    },
    "papermill": {
     "duration": 0.036277,
     "end_time": "2023-01-24T08:24:12.962247",
     "exception": false,
     "start_time": "2023-01-24T08:24:12.925970",
     "status": "completed"
    },
    "tags": []
   },
   "outputs": [
    {
     "data": {
      "text/plain": [
       "age          41\n",
       "sex           2\n",
       "cp            4\n",
       "trtbps       49\n",
       "chol        152\n",
       "fbs           2\n",
       "restecg       3\n",
       "thalachh     91\n",
       "exng          2\n",
       "oldpeak      40\n",
       "slp           3\n",
       "caa           5\n",
       "thall         4\n",
       "output        2\n",
       "dtype: int64"
      ]
     },
     "execution_count": 6,
     "metadata": {},
     "output_type": "execute_result"
    }
   ],
   "source": [
    "df.nunique()"
   ]
  },
  {
   "cell_type": "markdown",
   "id": "0e90fc13",
   "metadata": {
    "papermill": {
     "duration": 0.017358,
     "end_time": "2023-01-24T08:24:12.996743",
     "exception": false,
     "start_time": "2023-01-24T08:24:12.979385",
     "status": "completed"
    },
    "tags": []
   },
   "source": [
    "**Descriptive Statictis**"
   ]
  },
  {
   "cell_type": "code",
   "execution_count": 7,
   "id": "171f6ba0",
   "metadata": {
    "execution": {
     "iopub.execute_input": "2023-01-24T08:24:13.032356Z",
     "iopub.status.busy": "2023-01-24T08:24:13.031955Z",
     "iopub.status.idle": "2023-01-24T08:24:13.079137Z",
     "shell.execute_reply": "2023-01-24T08:24:13.077703Z"
    },
    "papermill": {
     "duration": 0.06794,
     "end_time": "2023-01-24T08:24:13.081716",
     "exception": false,
     "start_time": "2023-01-24T08:24:13.013776",
     "status": "completed"
    },
    "tags": []
   },
   "outputs": [
    {
     "data": {
      "text/html": [
       "<div>\n",
       "<style scoped>\n",
       "    .dataframe tbody tr th:only-of-type {\n",
       "        vertical-align: middle;\n",
       "    }\n",
       "\n",
       "    .dataframe tbody tr th {\n",
       "        vertical-align: top;\n",
       "    }\n",
       "\n",
       "    .dataframe thead th {\n",
       "        text-align: right;\n",
       "    }\n",
       "</style>\n",
       "<table border=\"1\" class=\"dataframe\">\n",
       "  <thead>\n",
       "    <tr style=\"text-align: right;\">\n",
       "      <th></th>\n",
       "      <th>count</th>\n",
       "      <th>mean</th>\n",
       "      <th>std</th>\n",
       "      <th>min</th>\n",
       "      <th>25%</th>\n",
       "      <th>50%</th>\n",
       "      <th>75%</th>\n",
       "      <th>max</th>\n",
       "    </tr>\n",
       "  </thead>\n",
       "  <tbody>\n",
       "    <tr>\n",
       "      <th>age</th>\n",
       "      <td>303.0</td>\n",
       "      <td>54.366337</td>\n",
       "      <td>9.082101</td>\n",
       "      <td>29.0</td>\n",
       "      <td>47.5</td>\n",
       "      <td>55.0</td>\n",
       "      <td>61.0</td>\n",
       "      <td>77.0</td>\n",
       "    </tr>\n",
       "    <tr>\n",
       "      <th>sex</th>\n",
       "      <td>303.0</td>\n",
       "      <td>0.683168</td>\n",
       "      <td>0.466011</td>\n",
       "      <td>0.0</td>\n",
       "      <td>0.0</td>\n",
       "      <td>1.0</td>\n",
       "      <td>1.0</td>\n",
       "      <td>1.0</td>\n",
       "    </tr>\n",
       "    <tr>\n",
       "      <th>cp</th>\n",
       "      <td>303.0</td>\n",
       "      <td>0.966997</td>\n",
       "      <td>1.032052</td>\n",
       "      <td>0.0</td>\n",
       "      <td>0.0</td>\n",
       "      <td>1.0</td>\n",
       "      <td>2.0</td>\n",
       "      <td>3.0</td>\n",
       "    </tr>\n",
       "    <tr>\n",
       "      <th>trtbps</th>\n",
       "      <td>303.0</td>\n",
       "      <td>131.623762</td>\n",
       "      <td>17.538143</td>\n",
       "      <td>94.0</td>\n",
       "      <td>120.0</td>\n",
       "      <td>130.0</td>\n",
       "      <td>140.0</td>\n",
       "      <td>200.0</td>\n",
       "    </tr>\n",
       "    <tr>\n",
       "      <th>chol</th>\n",
       "      <td>303.0</td>\n",
       "      <td>246.264026</td>\n",
       "      <td>51.830751</td>\n",
       "      <td>126.0</td>\n",
       "      <td>211.0</td>\n",
       "      <td>240.0</td>\n",
       "      <td>274.5</td>\n",
       "      <td>564.0</td>\n",
       "    </tr>\n",
       "    <tr>\n",
       "      <th>fbs</th>\n",
       "      <td>303.0</td>\n",
       "      <td>0.148515</td>\n",
       "      <td>0.356198</td>\n",
       "      <td>0.0</td>\n",
       "      <td>0.0</td>\n",
       "      <td>0.0</td>\n",
       "      <td>0.0</td>\n",
       "      <td>1.0</td>\n",
       "    </tr>\n",
       "    <tr>\n",
       "      <th>restecg</th>\n",
       "      <td>303.0</td>\n",
       "      <td>0.528053</td>\n",
       "      <td>0.525860</td>\n",
       "      <td>0.0</td>\n",
       "      <td>0.0</td>\n",
       "      <td>1.0</td>\n",
       "      <td>1.0</td>\n",
       "      <td>2.0</td>\n",
       "    </tr>\n",
       "    <tr>\n",
       "      <th>thalachh</th>\n",
       "      <td>303.0</td>\n",
       "      <td>149.646865</td>\n",
       "      <td>22.905161</td>\n",
       "      <td>71.0</td>\n",
       "      <td>133.5</td>\n",
       "      <td>153.0</td>\n",
       "      <td>166.0</td>\n",
       "      <td>202.0</td>\n",
       "    </tr>\n",
       "    <tr>\n",
       "      <th>exng</th>\n",
       "      <td>303.0</td>\n",
       "      <td>0.326733</td>\n",
       "      <td>0.469794</td>\n",
       "      <td>0.0</td>\n",
       "      <td>0.0</td>\n",
       "      <td>0.0</td>\n",
       "      <td>1.0</td>\n",
       "      <td>1.0</td>\n",
       "    </tr>\n",
       "    <tr>\n",
       "      <th>oldpeak</th>\n",
       "      <td>303.0</td>\n",
       "      <td>1.039604</td>\n",
       "      <td>1.161075</td>\n",
       "      <td>0.0</td>\n",
       "      <td>0.0</td>\n",
       "      <td>0.8</td>\n",
       "      <td>1.6</td>\n",
       "      <td>6.2</td>\n",
       "    </tr>\n",
       "    <tr>\n",
       "      <th>slp</th>\n",
       "      <td>303.0</td>\n",
       "      <td>1.399340</td>\n",
       "      <td>0.616226</td>\n",
       "      <td>0.0</td>\n",
       "      <td>1.0</td>\n",
       "      <td>1.0</td>\n",
       "      <td>2.0</td>\n",
       "      <td>2.0</td>\n",
       "    </tr>\n",
       "    <tr>\n",
       "      <th>caa</th>\n",
       "      <td>303.0</td>\n",
       "      <td>0.729373</td>\n",
       "      <td>1.022606</td>\n",
       "      <td>0.0</td>\n",
       "      <td>0.0</td>\n",
       "      <td>0.0</td>\n",
       "      <td>1.0</td>\n",
       "      <td>4.0</td>\n",
       "    </tr>\n",
       "    <tr>\n",
       "      <th>thall</th>\n",
       "      <td>303.0</td>\n",
       "      <td>2.313531</td>\n",
       "      <td>0.612277</td>\n",
       "      <td>0.0</td>\n",
       "      <td>2.0</td>\n",
       "      <td>2.0</td>\n",
       "      <td>3.0</td>\n",
       "      <td>3.0</td>\n",
       "    </tr>\n",
       "    <tr>\n",
       "      <th>output</th>\n",
       "      <td>303.0</td>\n",
       "      <td>0.544554</td>\n",
       "      <td>0.498835</td>\n",
       "      <td>0.0</td>\n",
       "      <td>0.0</td>\n",
       "      <td>1.0</td>\n",
       "      <td>1.0</td>\n",
       "      <td>1.0</td>\n",
       "    </tr>\n",
       "  </tbody>\n",
       "</table>\n",
       "</div>"
      ],
      "text/plain": [
       "          count        mean        std    min    25%    50%    75%    max\n",
       "age       303.0   54.366337   9.082101   29.0   47.5   55.0   61.0   77.0\n",
       "sex       303.0    0.683168   0.466011    0.0    0.0    1.0    1.0    1.0\n",
       "cp        303.0    0.966997   1.032052    0.0    0.0    1.0    2.0    3.0\n",
       "trtbps    303.0  131.623762  17.538143   94.0  120.0  130.0  140.0  200.0\n",
       "chol      303.0  246.264026  51.830751  126.0  211.0  240.0  274.5  564.0\n",
       "fbs       303.0    0.148515   0.356198    0.0    0.0    0.0    0.0    1.0\n",
       "restecg   303.0    0.528053   0.525860    0.0    0.0    1.0    1.0    2.0\n",
       "thalachh  303.0  149.646865  22.905161   71.0  133.5  153.0  166.0  202.0\n",
       "exng      303.0    0.326733   0.469794    0.0    0.0    0.0    1.0    1.0\n",
       "oldpeak   303.0    1.039604   1.161075    0.0    0.0    0.8    1.6    6.2\n",
       "slp       303.0    1.399340   0.616226    0.0    1.0    1.0    2.0    2.0\n",
       "caa       303.0    0.729373   1.022606    0.0    0.0    0.0    1.0    4.0\n",
       "thall     303.0    2.313531   0.612277    0.0    2.0    2.0    3.0    3.0\n",
       "output    303.0    0.544554   0.498835    0.0    0.0    1.0    1.0    1.0"
      ]
     },
     "execution_count": 7,
     "metadata": {},
     "output_type": "execute_result"
    }
   ],
   "source": [
    "df.describe().transpose()"
   ]
  },
  {
   "cell_type": "markdown",
   "id": "5efe4a84",
   "metadata": {
    "papermill": {
     "duration": 0.017309,
     "end_time": "2023-01-24T08:24:13.116471",
     "exception": false,
     "start_time": "2023-01-24T08:24:13.099162",
     "status": "completed"
    },
    "tags": []
   },
   "source": [
    "**Check Covariance Of Variables**"
   ]
  },
  {
   "cell_type": "code",
   "execution_count": 8,
   "id": "9ec3bb6f",
   "metadata": {
    "execution": {
     "iopub.execute_input": "2023-01-24T08:24:13.153287Z",
     "iopub.status.busy": "2023-01-24T08:24:13.152946Z",
     "iopub.status.idle": "2023-01-24T08:24:13.178249Z",
     "shell.execute_reply": "2023-01-24T08:24:13.177017Z"
    },
    "papermill": {
     "duration": 0.047002,
     "end_time": "2023-01-24T08:24:13.181019",
     "exception": false,
     "start_time": "2023-01-24T08:24:13.134017",
     "status": "completed"
    },
    "tags": []
   },
   "outputs": [
    {
     "data": {
      "text/html": [
       "<div>\n",
       "<style scoped>\n",
       "    .dataframe tbody tr th:only-of-type {\n",
       "        vertical-align: middle;\n",
       "    }\n",
       "\n",
       "    .dataframe tbody tr th {\n",
       "        vertical-align: top;\n",
       "    }\n",
       "\n",
       "    .dataframe thead th {\n",
       "        text-align: right;\n",
       "    }\n",
       "</style>\n",
       "<table border=\"1\" class=\"dataframe\">\n",
       "  <thead>\n",
       "    <tr style=\"text-align: right;\">\n",
       "      <th></th>\n",
       "      <th>age</th>\n",
       "      <th>sex</th>\n",
       "      <th>cp</th>\n",
       "      <th>trtbps</th>\n",
       "      <th>chol</th>\n",
       "      <th>fbs</th>\n",
       "      <th>restecg</th>\n",
       "      <th>thalachh</th>\n",
       "      <th>exng</th>\n",
       "      <th>oldpeak</th>\n",
       "      <th>slp</th>\n",
       "      <th>caa</th>\n",
       "      <th>thall</th>\n",
       "      <th>output</th>\n",
       "    </tr>\n",
       "  </thead>\n",
       "  <tbody>\n",
       "    <tr>\n",
       "      <th>age</th>\n",
       "      <td>1.000000</td>\n",
       "      <td>-0.098447</td>\n",
       "      <td>-0.068653</td>\n",
       "      <td>0.279351</td>\n",
       "      <td>0.213678</td>\n",
       "      <td>0.121308</td>\n",
       "      <td>-0.116211</td>\n",
       "      <td>-0.398522</td>\n",
       "      <td>0.096801</td>\n",
       "      <td>0.210013</td>\n",
       "      <td>-0.168814</td>\n",
       "      <td>0.276326</td>\n",
       "      <td>0.068001</td>\n",
       "      <td>-0.225439</td>\n",
       "    </tr>\n",
       "    <tr>\n",
       "      <th>sex</th>\n",
       "      <td>-0.098447</td>\n",
       "      <td>1.000000</td>\n",
       "      <td>-0.049353</td>\n",
       "      <td>-0.056769</td>\n",
       "      <td>-0.197912</td>\n",
       "      <td>0.045032</td>\n",
       "      <td>-0.058196</td>\n",
       "      <td>-0.044020</td>\n",
       "      <td>0.141664</td>\n",
       "      <td>0.096093</td>\n",
       "      <td>-0.030711</td>\n",
       "      <td>0.118261</td>\n",
       "      <td>0.210041</td>\n",
       "      <td>-0.280937</td>\n",
       "    </tr>\n",
       "    <tr>\n",
       "      <th>cp</th>\n",
       "      <td>-0.068653</td>\n",
       "      <td>-0.049353</td>\n",
       "      <td>1.000000</td>\n",
       "      <td>0.047608</td>\n",
       "      <td>-0.076904</td>\n",
       "      <td>0.094444</td>\n",
       "      <td>0.044421</td>\n",
       "      <td>0.295762</td>\n",
       "      <td>-0.394280</td>\n",
       "      <td>-0.149230</td>\n",
       "      <td>0.119717</td>\n",
       "      <td>-0.181053</td>\n",
       "      <td>-0.161736</td>\n",
       "      <td>0.433798</td>\n",
       "    </tr>\n",
       "    <tr>\n",
       "      <th>trtbps</th>\n",
       "      <td>0.279351</td>\n",
       "      <td>-0.056769</td>\n",
       "      <td>0.047608</td>\n",
       "      <td>1.000000</td>\n",
       "      <td>0.123174</td>\n",
       "      <td>0.177531</td>\n",
       "      <td>-0.114103</td>\n",
       "      <td>-0.046698</td>\n",
       "      <td>0.067616</td>\n",
       "      <td>0.193216</td>\n",
       "      <td>-0.121475</td>\n",
       "      <td>0.101389</td>\n",
       "      <td>0.062210</td>\n",
       "      <td>-0.144931</td>\n",
       "    </tr>\n",
       "    <tr>\n",
       "      <th>chol</th>\n",
       "      <td>0.213678</td>\n",
       "      <td>-0.197912</td>\n",
       "      <td>-0.076904</td>\n",
       "      <td>0.123174</td>\n",
       "      <td>1.000000</td>\n",
       "      <td>0.013294</td>\n",
       "      <td>-0.151040</td>\n",
       "      <td>-0.009940</td>\n",
       "      <td>0.067023</td>\n",
       "      <td>0.053952</td>\n",
       "      <td>-0.004038</td>\n",
       "      <td>0.070511</td>\n",
       "      <td>0.098803</td>\n",
       "      <td>-0.085239</td>\n",
       "    </tr>\n",
       "    <tr>\n",
       "      <th>fbs</th>\n",
       "      <td>0.121308</td>\n",
       "      <td>0.045032</td>\n",
       "      <td>0.094444</td>\n",
       "      <td>0.177531</td>\n",
       "      <td>0.013294</td>\n",
       "      <td>1.000000</td>\n",
       "      <td>-0.084189</td>\n",
       "      <td>-0.008567</td>\n",
       "      <td>0.025665</td>\n",
       "      <td>0.005747</td>\n",
       "      <td>-0.059894</td>\n",
       "      <td>0.137979</td>\n",
       "      <td>-0.032019</td>\n",
       "      <td>-0.028046</td>\n",
       "    </tr>\n",
       "    <tr>\n",
       "      <th>restecg</th>\n",
       "      <td>-0.116211</td>\n",
       "      <td>-0.058196</td>\n",
       "      <td>0.044421</td>\n",
       "      <td>-0.114103</td>\n",
       "      <td>-0.151040</td>\n",
       "      <td>-0.084189</td>\n",
       "      <td>1.000000</td>\n",
       "      <td>0.044123</td>\n",
       "      <td>-0.070733</td>\n",
       "      <td>-0.058770</td>\n",
       "      <td>0.093045</td>\n",
       "      <td>-0.072042</td>\n",
       "      <td>-0.011981</td>\n",
       "      <td>0.137230</td>\n",
       "    </tr>\n",
       "    <tr>\n",
       "      <th>thalachh</th>\n",
       "      <td>-0.398522</td>\n",
       "      <td>-0.044020</td>\n",
       "      <td>0.295762</td>\n",
       "      <td>-0.046698</td>\n",
       "      <td>-0.009940</td>\n",
       "      <td>-0.008567</td>\n",
       "      <td>0.044123</td>\n",
       "      <td>1.000000</td>\n",
       "      <td>-0.378812</td>\n",
       "      <td>-0.344187</td>\n",
       "      <td>0.386784</td>\n",
       "      <td>-0.213177</td>\n",
       "      <td>-0.096439</td>\n",
       "      <td>0.421741</td>\n",
       "    </tr>\n",
       "    <tr>\n",
       "      <th>exng</th>\n",
       "      <td>0.096801</td>\n",
       "      <td>0.141664</td>\n",
       "      <td>-0.394280</td>\n",
       "      <td>0.067616</td>\n",
       "      <td>0.067023</td>\n",
       "      <td>0.025665</td>\n",
       "      <td>-0.070733</td>\n",
       "      <td>-0.378812</td>\n",
       "      <td>1.000000</td>\n",
       "      <td>0.288223</td>\n",
       "      <td>-0.257748</td>\n",
       "      <td>0.115739</td>\n",
       "      <td>0.206754</td>\n",
       "      <td>-0.436757</td>\n",
       "    </tr>\n",
       "    <tr>\n",
       "      <th>oldpeak</th>\n",
       "      <td>0.210013</td>\n",
       "      <td>0.096093</td>\n",
       "      <td>-0.149230</td>\n",
       "      <td>0.193216</td>\n",
       "      <td>0.053952</td>\n",
       "      <td>0.005747</td>\n",
       "      <td>-0.058770</td>\n",
       "      <td>-0.344187</td>\n",
       "      <td>0.288223</td>\n",
       "      <td>1.000000</td>\n",
       "      <td>-0.577537</td>\n",
       "      <td>0.222682</td>\n",
       "      <td>0.210244</td>\n",
       "      <td>-0.430696</td>\n",
       "    </tr>\n",
       "    <tr>\n",
       "      <th>slp</th>\n",
       "      <td>-0.168814</td>\n",
       "      <td>-0.030711</td>\n",
       "      <td>0.119717</td>\n",
       "      <td>-0.121475</td>\n",
       "      <td>-0.004038</td>\n",
       "      <td>-0.059894</td>\n",
       "      <td>0.093045</td>\n",
       "      <td>0.386784</td>\n",
       "      <td>-0.257748</td>\n",
       "      <td>-0.577537</td>\n",
       "      <td>1.000000</td>\n",
       "      <td>-0.080155</td>\n",
       "      <td>-0.104764</td>\n",
       "      <td>0.345877</td>\n",
       "    </tr>\n",
       "    <tr>\n",
       "      <th>caa</th>\n",
       "      <td>0.276326</td>\n",
       "      <td>0.118261</td>\n",
       "      <td>-0.181053</td>\n",
       "      <td>0.101389</td>\n",
       "      <td>0.070511</td>\n",
       "      <td>0.137979</td>\n",
       "      <td>-0.072042</td>\n",
       "      <td>-0.213177</td>\n",
       "      <td>0.115739</td>\n",
       "      <td>0.222682</td>\n",
       "      <td>-0.080155</td>\n",
       "      <td>1.000000</td>\n",
       "      <td>0.151832</td>\n",
       "      <td>-0.391724</td>\n",
       "    </tr>\n",
       "    <tr>\n",
       "      <th>thall</th>\n",
       "      <td>0.068001</td>\n",
       "      <td>0.210041</td>\n",
       "      <td>-0.161736</td>\n",
       "      <td>0.062210</td>\n",
       "      <td>0.098803</td>\n",
       "      <td>-0.032019</td>\n",
       "      <td>-0.011981</td>\n",
       "      <td>-0.096439</td>\n",
       "      <td>0.206754</td>\n",
       "      <td>0.210244</td>\n",
       "      <td>-0.104764</td>\n",
       "      <td>0.151832</td>\n",
       "      <td>1.000000</td>\n",
       "      <td>-0.344029</td>\n",
       "    </tr>\n",
       "    <tr>\n",
       "      <th>output</th>\n",
       "      <td>-0.225439</td>\n",
       "      <td>-0.280937</td>\n",
       "      <td>0.433798</td>\n",
       "      <td>-0.144931</td>\n",
       "      <td>-0.085239</td>\n",
       "      <td>-0.028046</td>\n",
       "      <td>0.137230</td>\n",
       "      <td>0.421741</td>\n",
       "      <td>-0.436757</td>\n",
       "      <td>-0.430696</td>\n",
       "      <td>0.345877</td>\n",
       "      <td>-0.391724</td>\n",
       "      <td>-0.344029</td>\n",
       "      <td>1.000000</td>\n",
       "    </tr>\n",
       "  </tbody>\n",
       "</table>\n",
       "</div>"
      ],
      "text/plain": [
       "               age       sex        cp    trtbps      chol       fbs  \\\n",
       "age       1.000000 -0.098447 -0.068653  0.279351  0.213678  0.121308   \n",
       "sex      -0.098447  1.000000 -0.049353 -0.056769 -0.197912  0.045032   \n",
       "cp       -0.068653 -0.049353  1.000000  0.047608 -0.076904  0.094444   \n",
       "trtbps    0.279351 -0.056769  0.047608  1.000000  0.123174  0.177531   \n",
       "chol      0.213678 -0.197912 -0.076904  0.123174  1.000000  0.013294   \n",
       "fbs       0.121308  0.045032  0.094444  0.177531  0.013294  1.000000   \n",
       "restecg  -0.116211 -0.058196  0.044421 -0.114103 -0.151040 -0.084189   \n",
       "thalachh -0.398522 -0.044020  0.295762 -0.046698 -0.009940 -0.008567   \n",
       "exng      0.096801  0.141664 -0.394280  0.067616  0.067023  0.025665   \n",
       "oldpeak   0.210013  0.096093 -0.149230  0.193216  0.053952  0.005747   \n",
       "slp      -0.168814 -0.030711  0.119717 -0.121475 -0.004038 -0.059894   \n",
       "caa       0.276326  0.118261 -0.181053  0.101389  0.070511  0.137979   \n",
       "thall     0.068001  0.210041 -0.161736  0.062210  0.098803 -0.032019   \n",
       "output   -0.225439 -0.280937  0.433798 -0.144931 -0.085239 -0.028046   \n",
       "\n",
       "           restecg  thalachh      exng   oldpeak       slp       caa  \\\n",
       "age      -0.116211 -0.398522  0.096801  0.210013 -0.168814  0.276326   \n",
       "sex      -0.058196 -0.044020  0.141664  0.096093 -0.030711  0.118261   \n",
       "cp        0.044421  0.295762 -0.394280 -0.149230  0.119717 -0.181053   \n",
       "trtbps   -0.114103 -0.046698  0.067616  0.193216 -0.121475  0.101389   \n",
       "chol     -0.151040 -0.009940  0.067023  0.053952 -0.004038  0.070511   \n",
       "fbs      -0.084189 -0.008567  0.025665  0.005747 -0.059894  0.137979   \n",
       "restecg   1.000000  0.044123 -0.070733 -0.058770  0.093045 -0.072042   \n",
       "thalachh  0.044123  1.000000 -0.378812 -0.344187  0.386784 -0.213177   \n",
       "exng     -0.070733 -0.378812  1.000000  0.288223 -0.257748  0.115739   \n",
       "oldpeak  -0.058770 -0.344187  0.288223  1.000000 -0.577537  0.222682   \n",
       "slp       0.093045  0.386784 -0.257748 -0.577537  1.000000 -0.080155   \n",
       "caa      -0.072042 -0.213177  0.115739  0.222682 -0.080155  1.000000   \n",
       "thall    -0.011981 -0.096439  0.206754  0.210244 -0.104764  0.151832   \n",
       "output    0.137230  0.421741 -0.436757 -0.430696  0.345877 -0.391724   \n",
       "\n",
       "             thall    output  \n",
       "age       0.068001 -0.225439  \n",
       "sex       0.210041 -0.280937  \n",
       "cp       -0.161736  0.433798  \n",
       "trtbps    0.062210 -0.144931  \n",
       "chol      0.098803 -0.085239  \n",
       "fbs      -0.032019 -0.028046  \n",
       "restecg  -0.011981  0.137230  \n",
       "thalachh -0.096439  0.421741  \n",
       "exng      0.206754 -0.436757  \n",
       "oldpeak   0.210244 -0.430696  \n",
       "slp      -0.104764  0.345877  \n",
       "caa       0.151832 -0.391724  \n",
       "thall     1.000000 -0.344029  \n",
       "output   -0.344029  1.000000  "
      ]
     },
     "execution_count": 8,
     "metadata": {},
     "output_type": "execute_result"
    }
   ],
   "source": [
    "df.corr()"
   ]
  },
  {
   "cell_type": "code",
   "execution_count": 9,
   "id": "fe60c952",
   "metadata": {
    "execution": {
     "iopub.execute_input": "2023-01-24T08:24:13.218570Z",
     "iopub.status.busy": "2023-01-24T08:24:13.218214Z",
     "iopub.status.idle": "2023-01-24T08:24:14.054526Z",
     "shell.execute_reply": "2023-01-24T08:24:14.053577Z"
    },
    "papermill": {
     "duration": 0.857501,
     "end_time": "2023-01-24T08:24:14.056343",
     "exception": false,
     "start_time": "2023-01-24T08:24:13.198842",
     "status": "completed"
    },
    "tags": []
   },
   "outputs": [
    {
     "data": {
      "text/plain": [
       "<AxesSubplot:>"
      ]
     },
     "execution_count": 9,
     "metadata": {},
     "output_type": "execute_result"
    },
    {
     "data": {
      "image/png": "[encoded data removed]",
      "text/plain": [
       "<Figure size 1440x720 with 2 Axes>"
      ]
     },
     "metadata": {
      "needs_background": "light"
     },
     "output_type": "display_data"
    }
   ],
   "source": [
    "plt.subplots(figsize=(20,10))\n",
    "sns.heatmap(df.corr(),annot=True,cmap='coolwarm')"
   ]
  },
  {
   "cell_type": "markdown",
   "id": "5f894716",
   "metadata": {
    "papermill": {
     "duration": 0.01883,
     "end_time": "2023-01-24T08:24:14.095069",
     "exception": false,
     "start_time": "2023-01-24T08:24:14.076239",
     "status": "completed"
    },
    "tags": []
   },
   "source": [
    "**Checking For Imbalance In The Output Class**"
   ]
  },
  {
   "cell_type": "code",
   "execution_count": 10,
   "id": "272688df",
   "metadata": {
    "execution": {
     "iopub.execute_input": "2023-01-24T08:24:14.135234Z",
     "iopub.status.busy": "2023-01-24T08:24:14.134780Z",
     "iopub.status.idle": "2023-01-24T08:24:14.143348Z",
     "shell.execute_reply": "2023-01-24T08:24:14.142255Z"
    },
    "papermill": {
     "duration": 0.03179,
     "end_time": "2023-01-24T08:24:14.145927",
     "exception": false,
     "start_time": "2023-01-24T08:24:14.114137",
     "status": "completed"
    },
    "tags": []
   },
   "outputs": [
    {
     "data": {
      "text/plain": [
       "1    0.544554\n",
       "0    0.455446\n",
       "Name: output, dtype: float64"
      ]
     },
     "execution_count": 10,
     "metadata": {},
     "output_type": "execute_result"
    }
   ],
   "source": [
    "df.output.value_counts(normalize=True)\n"
   ]
  },
  {
   "cell_type": "code",
   "execution_count": 11,
   "id": "5bf8b727",
   "metadata": {
    "execution": {
     "iopub.execute_input": "2023-01-24T08:24:14.187503Z",
     "iopub.status.busy": "2023-01-24T08:24:14.187140Z",
     "iopub.status.idle": "2023-01-24T08:24:14.330992Z",
     "shell.execute_reply": "2023-01-24T08:24:14.330211Z"
    },
    "papermill": {
     "duration": 0.166895,
     "end_time": "2023-01-24T08:24:14.332774",
     "exception": false,
     "start_time": "2023-01-24T08:24:14.165879",
     "status": "completed"
    },
    "tags": []
   },
   "outputs": [
    {
     "name": "stderr",
     "output_type": "stream",
     "text": [
      "/opt/conda/lib/python3.7/site-packages/seaborn/_decorators.py:43: FutureWarning: Pass the following variable as a keyword arg: x. From version 0.12, the only valid positional argument will be `data`, and passing other arguments without an explicit keyword will result in an error or misinterpretation.\n",
      "  FutureWarning\n"
     ]
    },
    {
     "data": {
      "image/png": "[encoded data removed]",
      "text/plain": [
       "<Figure size 1080x504 with 1 Axes>"
      ]
     },
     "metadata": {
      "needs_background": "light"
     },
     "output_type": "display_data"
    }
   ],
   "source": [
    "plt.figure(figsize=[15,7])\n",
    "plt.title('Count Plot For Output')\n",
    "sns.countplot(df['output'])\n",
    "plt.show()"
   ]
  },
  {
   "cell_type": "markdown",
   "id": "f8fc2cb3",
   "metadata": {
    "papermill": {
     "duration": 0.019452,
     "end_time": "2023-01-24T08:24:14.371477",
     "exception": false,
     "start_time": "2023-01-24T08:24:14.352025",
     "status": "completed"
    },
    "tags": []
   },
   "source": [
    "**Check Outlier DataFrame Using Boxplot**"
   ]
  },
  {
   "cell_type": "code",
   "execution_count": 12,
   "id": "68d8b077",
   "metadata": {
    "execution": {
     "iopub.execute_input": "2023-01-24T08:24:14.412335Z",
     "iopub.status.busy": "2023-01-24T08:24:14.411947Z",
     "iopub.status.idle": "2023-01-24T08:24:14.679535Z",
     "shell.execute_reply": "2023-01-24T08:24:14.678357Z"
    },
    "papermill": {
     "duration": 0.290338,
     "end_time": "2023-01-24T08:24:14.681492",
     "exception": false,
     "start_time": "2023-01-24T08:24:14.391154",
     "status": "completed"
    },
    "tags": []
   },
   "outputs": [
    {
     "data": {
      "image/png": "[encoded data removed]",
      "text/plain": [
       "<Figure size 1440x720 with 1 Axes>"
      ]
     },
     "metadata": {
      "needs_background": "light"
     },
     "output_type": "display_data"
    }
   ],
   "source": [
    "plt.subplots(figsize=(20,10))\n",
    "plt.boxplot(df)\n",
    "plt.show()"
   ]
  },
  {
   "cell_type": "markdown",
   "id": "c0396245",
   "metadata": {
    "papermill": {
     "duration": 0.02335,
     "end_time": "2023-01-24T08:24:14.724415",
     "exception": false,
     "start_time": "2023-01-24T08:24:14.701065",
     "status": "completed"
    },
    "tags": []
   },
   "source": [
    "**Check The Patient's Condition By Age**"
   ]
  },
  {
   "cell_type": "code",
   "execution_count": 13,
   "id": "eb64a5c8",
   "metadata": {
    "execution": {
     "iopub.execute_input": "2023-01-24T08:24:14.773826Z",
     "iopub.status.busy": "2023-01-24T08:24:14.772925Z",
     "iopub.status.idle": "2023-01-24T08:24:15.015879Z",
     "shell.execute_reply": "2023-01-24T08:24:15.014739Z"
    },
    "papermill": {
     "duration": 0.270834,
     "end_time": "2023-01-24T08:24:15.018882",
     "exception": false,
     "start_time": "2023-01-24T08:24:14.748048",
     "status": "completed"
    },
    "tags": []
   },
   "outputs": [
    {
     "data": {
      "image/png": "[encoded data removed]",
      "text/plain": [
       "<Figure size 1008x432 with 1 Axes>"
      ]
     },
     "metadata": {
      "needs_background": "light"
     },
     "output_type": "display_data"
    }
   ],
   "source": [
    "plt.figure(figsize=(14,6))\n",
    "sns.lineplot(data=df['output'])\n",
    "sns.lineplot(data=df[\"age\"])\n",
    "plt.show()"
   ]
  },
  {
   "cell_type": "markdown",
   "id": "00075b00",
   "metadata": {
    "papermill": {
     "duration": 0.023127,
     "end_time": "2023-01-24T08:24:15.062939",
     "exception": false,
     "start_time": "2023-01-24T08:24:15.039812",
     "status": "completed"
    },
    "tags": []
   },
   "source": [
    "**Preprocessing Before Building A Model**"
   ]
  },
  {
   "cell_type": "code",
   "execution_count": 14,
   "id": "03d4f59e",
   "metadata": {
    "execution": {
     "iopub.execute_input": "2023-01-24T08:24:15.108123Z",
     "iopub.status.busy": "2023-01-24T08:24:15.107176Z",
     "iopub.status.idle": "2023-01-24T08:24:15.122872Z",
     "shell.execute_reply": "2023-01-24T08:24:15.121688Z"
    },
    "papermill": {
     "duration": 0.03934,
     "end_time": "2023-01-24T08:24:15.124815",
     "exception": false,
     "start_time": "2023-01-24T08:24:15.085475",
     "status": "completed"
    },
    "tags": []
   },
   "outputs": [
    {
     "data": {
      "text/html": [
       "<div>\n",
       "<style scoped>\n",
       "    .dataframe tbody tr th:only-of-type {\n",
       "        vertical-align: middle;\n",
       "    }\n",
       "\n",
       "    .dataframe tbody tr th {\n",
       "        vertical-align: top;\n",
       "    }\n",
       "\n",
       "    .dataframe thead th {\n",
       "        text-align: right;\n",
       "    }\n",
       "</style>\n",
       "<table border=\"1\" class=\"dataframe\">\n",
       "  <thead>\n",
       "    <tr style=\"text-align: right;\">\n",
       "      <th></th>\n",
       "      <th>age</th>\n",
       "      <th>sex</th>\n",
       "      <th>cp</th>\n",
       "      <th>trtbps</th>\n",
       "      <th>chol</th>\n",
       "      <th>fbs</th>\n",
       "      <th>restecg</th>\n",
       "      <th>thalachh</th>\n",
       "      <th>exng</th>\n",
       "      <th>oldpeak</th>\n",
       "      <th>slp</th>\n",
       "      <th>caa</th>\n",
       "      <th>thall</th>\n",
       "    </tr>\n",
       "  </thead>\n",
       "  <tbody>\n",
       "    <tr>\n",
       "      <th>0</th>\n",
       "      <td>63</td>\n",
       "      <td>1</td>\n",
       "      <td>3</td>\n",
       "      <td>145</td>\n",
       "      <td>233</td>\n",
       "      <td>1</td>\n",
       "      <td>0</td>\n",
       "      <td>150</td>\n",
       "      <td>0</td>\n",
       "      <td>2.3</td>\n",
       "      <td>0</td>\n",
       "      <td>0</td>\n",
       "      <td>1</td>\n",
       "    </tr>\n",
       "    <tr>\n",
       "      <th>1</th>\n",
       "      <td>37</td>\n",
       "      <td>1</td>\n",
       "      <td>2</td>\n",
       "      <td>130</td>\n",
       "      <td>250</td>\n",
       "      <td>0</td>\n",
       "      <td>1</td>\n",
       "      <td>187</td>\n",
       "      <td>0</td>\n",
       "      <td>3.5</td>\n",
       "      <td>0</td>\n",
       "      <td>0</td>\n",
       "      <td>2</td>\n",
       "    </tr>\n",
       "    <tr>\n",
       "      <th>2</th>\n",
       "      <td>41</td>\n",
       "      <td>0</td>\n",
       "      <td>1</td>\n",
       "      <td>130</td>\n",
       "      <td>204</td>\n",
       "      <td>0</td>\n",
       "      <td>0</td>\n",
       "      <td>172</td>\n",
       "      <td>0</td>\n",
       "      <td>1.4</td>\n",
       "      <td>2</td>\n",
       "      <td>0</td>\n",
       "      <td>2</td>\n",
       "    </tr>\n",
       "    <tr>\n",
       "      <th>3</th>\n",
       "      <td>56</td>\n",
       "      <td>1</td>\n",
       "      <td>1</td>\n",
       "      <td>120</td>\n",
       "      <td>236</td>\n",
       "      <td>0</td>\n",
       "      <td>1</td>\n",
       "      <td>178</td>\n",
       "      <td>0</td>\n",
       "      <td>0.8</td>\n",
       "      <td>2</td>\n",
       "      <td>0</td>\n",
       "      <td>2</td>\n",
       "    </tr>\n",
       "    <tr>\n",
       "      <th>4</th>\n",
       "      <td>57</td>\n",
       "      <td>0</td>\n",
       "      <td>0</td>\n",
       "      <td>120</td>\n",
       "      <td>354</td>\n",
       "      <td>0</td>\n",
       "      <td>1</td>\n",
       "      <td>163</td>\n",
       "      <td>1</td>\n",
       "      <td>0.6</td>\n",
       "      <td>2</td>\n",
       "      <td>0</td>\n",
       "      <td>2</td>\n",
       "    </tr>\n",
       "  </tbody>\n",
       "</table>\n",
       "</div>"
      ],
      "text/plain": [
       "   age  sex  cp  trtbps  chol  fbs  restecg  thalachh  exng  oldpeak  slp  \\\n",
       "0   63    1   3     145   233    1        0       150     0      2.3    0   \n",
       "1   37    1   2     130   250    0        1       187     0      3.5    0   \n",
       "2   41    0   1     130   204    0        0       172     0      1.4    2   \n",
       "3   56    1   1     120   236    0        1       178     0      0.8    2   \n",
       "4   57    0   0     120   354    0        1       163     1      0.6    2   \n",
       "\n",
       "   caa  thall  \n",
       "0    0      1  \n",
       "1    0      2  \n",
       "2    0      2  \n",
       "3    0      2  \n",
       "4    0      2  "
      ]
     },
     "execution_count": 14,
     "metadata": {},
     "output_type": "execute_result"
    }
   ],
   "source": [
    "x=df.drop('output',axis=1)\n",
    "x.head()"
   ]
  },
  {
   "cell_type": "code",
   "execution_count": 15,
   "id": "1791840d",
   "metadata": {
    "execution": {
     "iopub.execute_input": "2023-01-24T08:24:15.168163Z",
     "iopub.status.busy": "2023-01-24T08:24:15.167404Z",
     "iopub.status.idle": "2023-01-24T08:24:15.173975Z",
     "shell.execute_reply": "2023-01-24T08:24:15.173236Z"
    },
    "papermill": {
     "duration": 0.030046,
     "end_time": "2023-01-24T08:24:15.175643",
     "exception": false,
     "start_time": "2023-01-24T08:24:15.145597",
     "status": "completed"
    },
    "tags": []
   },
   "outputs": [
    {
     "data": {
      "text/plain": [
       "0    1\n",
       "1    1\n",
       "2    1\n",
       "3    1\n",
       "4    1\n",
       "Name: output, dtype: int64"
      ]
     },
     "execution_count": 15,
     "metadata": {},
     "output_type": "execute_result"
    }
   ],
   "source": [
    "y=df['output']\n",
    "y.head()"
   ]
  },
  {
   "cell_type": "code",
   "execution_count": 16,
   "id": "26d9b3f0",
   "metadata": {
    "execution": {
     "iopub.execute_input": "2023-01-24T08:24:15.218791Z",
     "iopub.status.busy": "2023-01-24T08:24:15.218132Z",
     "iopub.status.idle": "2023-01-24T08:24:15.224031Z",
     "shell.execute_reply": "2023-01-24T08:24:15.223300Z"
    },
    "papermill": {
     "duration": 0.029993,
     "end_time": "2023-01-24T08:24:15.225998",
     "exception": false,
     "start_time": "2023-01-24T08:24:15.196005",
     "status": "completed"
    },
    "tags": []
   },
   "outputs": [],
   "source": [
    "x_train, x_test, y_train, y_test = train_test_split(x, y, test_size=.2, random_state=42)"
   ]
  },
  {
   "cell_type": "markdown",
   "id": "d52001ab",
   "metadata": {
    "papermill": {
     "duration": 0.022077,
     "end_time": "2023-01-24T08:24:15.269078",
     "exception": false,
     "start_time": "2023-01-24T08:24:15.247001",
     "status": "completed"
    },
    "tags": []
   },
   "source": [
    "## Logistic Regression"
   ]
  },
  {
   "cell_type": "code",
   "execution_count": 17,
   "id": "988cb64e",
   "metadata": {
    "execution": {
     "iopub.execute_input": "2023-01-24T08:24:15.313632Z",
     "iopub.status.busy": "2023-01-24T08:24:15.312932Z",
     "iopub.status.idle": "2023-01-24T08:24:15.316857Z",
     "shell.execute_reply": "2023-01-24T08:24:15.316189Z"
    },
    "papermill": {
     "duration": 0.028701,
     "end_time": "2023-01-24T08:24:15.318664",
     "exception": false,
     "start_time": "2023-01-24T08:24:15.289963",
     "status": "completed"
    },
    "tags": []
   },
   "outputs": [],
   "source": [
    "lg=LogisticRegression()"
   ]
  },
  {
   "cell_type": "code",
   "execution_count": 18,
   "id": "b329164b",
   "metadata": {
    "execution": {
     "iopub.execute_input": "2023-01-24T08:24:15.362292Z",
     "iopub.status.busy": "2023-01-24T08:24:15.361642Z",
     "iopub.status.idle": "2023-01-24T08:24:15.401550Z",
     "shell.execute_reply": "2023-01-24T08:24:15.400236Z"
    },
    "papermill": {
     "duration": 0.064537,
     "end_time": "2023-01-24T08:24:15.403882",
     "exception": false,
     "start_time": "2023-01-24T08:24:15.339345",
     "status": "completed"
    },
    "tags": []
   },
   "outputs": [
    {
     "name": "stderr",
     "output_type": "stream",
     "text": [
      "/opt/conda/lib/python3.7/site-packages/sklearn/linear_model/_logistic.py:818: ConvergenceWarning: lbfgs failed to converge (status=1):\n",
      "STOP: TOTAL NO. of ITERATIONS REACHED LIMIT.\n",
      "\n",
      "Increase the number of iterations (max_iter) or scale the data as shown in:\n",
      "    https://scikit-learn.org/stable/modules/preprocessing.html\n",
      "Please also refer to the documentation for alternative solver options:\n",
      "    https://scikit-learn.org/stable/modules/linear_model.html#logistic-regression\n",
      "  extra_warning_msg=_LOGISTIC_SOLVER_CONVERGENCE_MSG,\n"
     ]
    },
    {
     "data": {
      "text/plain": [
       "LogisticRegression()"
      ]
     },
     "execution_count": 18,
     "metadata": {},
     "output_type": "execute_result"
    }
   ],
   "source": [
    "lg.fit(x_train,y_train)"
   ]
  },
  {
   "cell_type": "code",
   "execution_count": 19,
   "id": "d8696051",
   "metadata": {
    "execution": {
     "iopub.execute_input": "2023-01-24T08:24:15.448104Z",
     "iopub.status.busy": "2023-01-24T08:24:15.446962Z",
     "iopub.status.idle": "2023-01-24T08:24:15.455610Z",
     "shell.execute_reply": "2023-01-24T08:24:15.454604Z"
    },
    "papermill": {
     "duration": 0.032303,
     "end_time": "2023-01-24T08:24:15.457354",
     "exception": false,
     "start_time": "2023-01-24T08:24:15.425051",
     "status": "completed"
    },
    "tags": []
   },
   "outputs": [
    {
     "data": {
      "text/plain": [
       "0.8553719008264463"
      ]
     },
     "execution_count": 19,
     "metadata": {},
     "output_type": "execute_result"
    }
   ],
   "source": [
    "# Training Accuracy\n",
    "lg.score(x_train,y_train)"
   ]
  },
  {
   "cell_type": "code",
   "execution_count": 20,
   "id": "6e6f78d5",
   "metadata": {
    "execution": {
     "iopub.execute_input": "2023-01-24T08:24:15.502528Z",
     "iopub.status.busy": "2023-01-24T08:24:15.501829Z",
     "iopub.status.idle": "2023-01-24T08:24:15.510779Z",
     "shell.execute_reply": "2023-01-24T08:24:15.509459Z"
    },
    "papermill": {
     "duration": 0.034215,
     "end_time": "2023-01-24T08:24:15.513106",
     "exception": false,
     "start_time": "2023-01-24T08:24:15.478891",
     "status": "completed"
    },
    "tags": []
   },
   "outputs": [
    {
     "data": {
      "text/plain": [
       "0.8553719008264463"
      ]
     },
     "execution_count": 20,
     "metadata": {},
     "output_type": "execute_result"
    }
   ],
   "source": [
    "lg.score(x_train,y_train)"
   ]
  },
  {
   "cell_type": "code",
   "execution_count": 21,
   "id": "5ae52224",
   "metadata": {
    "execution": {
     "iopub.execute_input": "2023-01-24T08:24:15.557758Z",
     "iopub.status.busy": "2023-01-24T08:24:15.557221Z",
     "iopub.status.idle": "2023-01-24T08:24:15.563005Z",
     "shell.execute_reply": "2023-01-24T08:24:15.561828Z"
    },
    "papermill": {
     "duration": 0.030244,
     "end_time": "2023-01-24T08:24:15.565143",
     "exception": false,
     "start_time": "2023-01-24T08:24:15.534899",
     "status": "completed"
    },
    "tags": []
   },
   "outputs": [],
   "source": [
    "pred_lg=lg.predict(x_test)"
   ]
  },
  {
   "cell_type": "code",
   "execution_count": 22,
   "id": "9cba9314",
   "metadata": {
    "execution": {
     "iopub.execute_input": "2023-01-24T08:24:15.609188Z",
     "iopub.status.busy": "2023-01-24T08:24:15.608675Z",
     "iopub.status.idle": "2023-01-24T08:24:15.615149Z",
     "shell.execute_reply": "2023-01-24T08:24:15.613658Z"
    },
    "papermill": {
     "duration": 0.031595,
     "end_time": "2023-01-24T08:24:15.617628",
     "exception": false,
     "start_time": "2023-01-24T08:24:15.586033",
     "status": "completed"
    },
    "tags": []
   },
   "outputs": [
    {
     "data": {
      "text/plain": [
       "array([0, 1, 1, 0, 1, 1, 1, 0, 0, 1, 1, 0, 1, 0, 1, 1, 1, 0, 0, 0, 1, 0,\n",
       "       0, 1, 1, 1, 1, 1, 0, 1, 0, 0, 0, 0, 1, 0, 1, 1, 1, 1, 1, 1, 1, 1,\n",
       "       1, 0, 1, 1, 0, 0, 0, 0, 1, 1, 0, 0, 0, 1, 0, 0, 0])"
      ]
     },
     "execution_count": 22,
     "metadata": {},
     "output_type": "execute_result"
    }
   ],
   "source": [
    "pred_lg"
   ]
  },
  {
   "cell_type": "code",
   "execution_count": 23,
   "id": "84b4dfc6",
   "metadata": {
    "execution": {
     "iopub.execute_input": "2023-01-24T08:24:15.663563Z",
     "iopub.status.busy": "2023-01-24T08:24:15.663203Z",
     "iopub.status.idle": "2023-01-24T08:24:15.673028Z",
     "shell.execute_reply": "2023-01-24T08:24:15.671522Z"
    },
    "papermill": {
     "duration": 0.036047,
     "end_time": "2023-01-24T08:24:15.675025",
     "exception": false,
     "start_time": "2023-01-24T08:24:15.638978",
     "status": "completed"
    },
    "tags": []
   },
   "outputs": [
    {
     "name": "stdout",
     "output_type": "stream",
     "text": [
      "[[25  4]\n",
      " [ 3 29]]\n"
     ]
    }
   ],
   "source": [
    "cm_lg=metrics.confusion_matrix(y_test,pred_lg)\n",
    "print(cm_lg)"
   ]
  },
  {
   "cell_type": "code",
   "execution_count": 24,
   "id": "cc90b3e2",
   "metadata": {
    "execution": {
     "iopub.execute_input": "2023-01-24T08:24:15.719873Z",
     "iopub.status.busy": "2023-01-24T08:24:15.719366Z",
     "iopub.status.idle": "2023-01-24T08:24:15.873765Z",
     "shell.execute_reply": "2023-01-24T08:24:15.873017Z"
    },
    "papermill": {
     "duration": 0.179529,
     "end_time": "2023-01-24T08:24:15.875750",
     "exception": false,
     "start_time": "2023-01-24T08:24:15.696221",
     "status": "completed"
    },
    "tags": []
   },
   "outputs": [
    {
     "data": {
      "text/plain": [
       "<AxesSubplot:>"
      ]
     },
     "execution_count": 24,
     "metadata": {},
     "output_type": "execute_result"
    },
    {
     "data": {
      "image/png": "[encoded data removed]",
      "text/plain": [
       "<Figure size 432x216 with 2 Axes>"
      ]
     },
     "metadata": {
      "needs_background": "light"
     },
     "output_type": "display_data"
    }
   ],
   "source": [
    "plt.subplots(figsize=(6,3))\n",
    "sns.heatmap(cm_lg,annot=True)"
   ]
  },
  {
   "cell_type": "code",
   "execution_count": 25,
   "id": "e0b94efa",
   "metadata": {
    "execution": {
     "iopub.execute_input": "2023-01-24T08:24:15.921267Z",
     "iopub.status.busy": "2023-01-24T08:24:15.920729Z",
     "iopub.status.idle": "2023-01-24T08:24:15.925006Z",
     "shell.execute_reply": "2023-01-24T08:24:15.923875Z"
    },
    "papermill": {
     "duration": 0.030224,
     "end_time": "2023-01-24T08:24:15.927648",
     "exception": false,
     "start_time": "2023-01-24T08:24:15.897424",
     "status": "completed"
    },
    "tags": []
   },
   "outputs": [],
   "source": [
    "tp,fn,fp,tn=cm_lg.reshape(-1)"
   ]
  },
  {
   "cell_type": "code",
   "execution_count": 26,
   "id": "cbf7a0b8",
   "metadata": {
    "execution": {
     "iopub.execute_input": "2023-01-24T08:24:15.971230Z",
     "iopub.status.busy": "2023-01-24T08:24:15.970872Z",
     "iopub.status.idle": "2023-01-24T08:24:15.976890Z",
     "shell.execute_reply": "2023-01-24T08:24:15.975818Z"
    },
    "papermill": {
     "duration": 0.03015,
     "end_time": "2023-01-24T08:24:15.978810",
     "exception": false,
     "start_time": "2023-01-24T08:24:15.948660",
     "status": "completed"
    },
    "tags": []
   },
   "outputs": [
    {
     "data": {
      "text/plain": [
       "25"
      ]
     },
     "execution_count": 26,
     "metadata": {},
     "output_type": "execute_result"
    }
   ],
   "source": [
    "tp"
   ]
  },
  {
   "cell_type": "code",
   "execution_count": 27,
   "id": "10551af8",
   "metadata": {
    "execution": {
     "iopub.execute_input": "2023-01-24T08:24:16.022626Z",
     "iopub.status.busy": "2023-01-24T08:24:16.022218Z",
     "iopub.status.idle": "2023-01-24T08:24:16.028846Z",
     "shell.execute_reply": "2023-01-24T08:24:16.027654Z"
    },
    "papermill": {
     "duration": 0.031179,
     "end_time": "2023-01-24T08:24:16.031031",
     "exception": false,
     "start_time": "2023-01-24T08:24:15.999852",
     "status": "completed"
    },
    "tags": []
   },
   "outputs": [
    {
     "data": {
      "text/plain": [
       "4"
      ]
     },
     "execution_count": 27,
     "metadata": {},
     "output_type": "execute_result"
    }
   ],
   "source": [
    "fn"
   ]
  },
  {
   "cell_type": "code",
   "execution_count": 28,
   "id": "de7eaaad",
   "metadata": {
    "execution": {
     "iopub.execute_input": "2023-01-24T08:24:16.075444Z",
     "iopub.status.busy": "2023-01-24T08:24:16.075035Z",
     "iopub.status.idle": "2023-01-24T08:24:16.082008Z",
     "shell.execute_reply": "2023-01-24T08:24:16.080832Z"
    },
    "papermill": {
     "duration": 0.031847,
     "end_time": "2023-01-24T08:24:16.084403",
     "exception": false,
     "start_time": "2023-01-24T08:24:16.052556",
     "status": "completed"
    },
    "tags": []
   },
   "outputs": [
    {
     "data": {
      "text/plain": [
       "3"
      ]
     },
     "execution_count": 28,
     "metadata": {},
     "output_type": "execute_result"
    }
   ],
   "source": [
    "fp"
   ]
  },
  {
   "cell_type": "code",
   "execution_count": 29,
   "id": "eb5acdc3",
   "metadata": {
    "execution": {
     "iopub.execute_input": "2023-01-24T08:24:16.132760Z",
     "iopub.status.busy": "2023-01-24T08:24:16.132387Z",
     "iopub.status.idle": "2023-01-24T08:24:16.137851Z",
     "shell.execute_reply": "2023-01-24T08:24:16.137181Z"
    },
    "papermill": {
     "duration": 0.032399,
     "end_time": "2023-01-24T08:24:16.139562",
     "exception": false,
     "start_time": "2023-01-24T08:24:16.107163",
     "status": "completed"
    },
    "tags": []
   },
   "outputs": [
    {
     "data": {
      "text/plain": [
       "29"
      ]
     },
     "execution_count": 29,
     "metadata": {},
     "output_type": "execute_result"
    }
   ],
   "source": [
    "tn"
   ]
  },
  {
   "cell_type": "markdown",
   "id": "23cf6d2e",
   "metadata": {
    "papermill": {
     "duration": 0.021641,
     "end_time": "2023-01-24T08:24:16.183489",
     "exception": false,
     "start_time": "2023-01-24T08:24:16.161848",
     "status": "completed"
    },
    "tags": []
   },
   "source": [
    "**Accuracy**"
   ]
  },
  {
   "cell_type": "code",
   "execution_count": 30,
   "id": "c3963e02",
   "metadata": {
    "execution": {
     "iopub.execute_input": "2023-01-24T08:24:16.230273Z",
     "iopub.status.busy": "2023-01-24T08:24:16.229083Z",
     "iopub.status.idle": "2023-01-24T08:24:16.236125Z",
     "shell.execute_reply": "2023-01-24T08:24:16.235155Z"
    },
    "papermill": {
     "duration": 0.032498,
     "end_time": "2023-01-24T08:24:16.238353",
     "exception": false,
     "start_time": "2023-01-24T08:24:16.205855",
     "status": "completed"
    },
    "tags": []
   },
   "outputs": [
    {
     "data": {
      "text/plain": [
       "0.8852459016393442"
      ]
     },
     "execution_count": 30,
     "metadata": {},
     "output_type": "execute_result"
    }
   ],
   "source": [
    "accuracy=(tp+tn)/(tn+tp+fp+fn)\n",
    "accuracy"
   ]
  },
  {
   "cell_type": "code",
   "execution_count": 31,
   "id": "18bec76c",
   "metadata": {
    "execution": {
     "iopub.execute_input": "2023-01-24T08:24:16.284709Z",
     "iopub.status.busy": "2023-01-24T08:24:16.284302Z",
     "iopub.status.idle": "2023-01-24T08:24:16.290907Z",
     "shell.execute_reply": "2023-01-24T08:24:16.289892Z"
    },
    "papermill": {
     "duration": 0.032396,
     "end_time": "2023-01-24T08:24:16.292916",
     "exception": false,
     "start_time": "2023-01-24T08:24:16.260520",
     "status": "completed"
    },
    "tags": []
   },
   "outputs": [
    {
     "data": {
      "text/plain": [
       "0.8928571428571429"
      ]
     },
     "execution_count": 31,
     "metadata": {},
     "output_type": "execute_result"
    }
   ],
   "source": [
    "precision=tp/(tp+fp)\n",
    "precision"
   ]
  },
  {
   "cell_type": "code",
   "execution_count": 32,
   "id": "c8fb6de9",
   "metadata": {
    "execution": {
     "iopub.execute_input": "2023-01-24T08:24:16.340582Z",
     "iopub.status.busy": "2023-01-24T08:24:16.340217Z",
     "iopub.status.idle": "2023-01-24T08:24:16.346092Z",
     "shell.execute_reply": "2023-01-24T08:24:16.345164Z"
    },
    "papermill": {
     "duration": 0.032728,
     "end_time": "2023-01-24T08:24:16.348413",
     "exception": false,
     "start_time": "2023-01-24T08:24:16.315685",
     "status": "completed"
    },
    "tags": []
   },
   "outputs": [
    {
     "data": {
      "text/plain": [
       "0.8620689655172413"
      ]
     },
     "execution_count": 32,
     "metadata": {},
     "output_type": "execute_result"
    }
   ],
   "source": [
    "sensitivity=tp/(tp+fn)\n",
    "sensitivity"
   ]
  },
  {
   "cell_type": "code",
   "execution_count": 33,
   "id": "8ecdfa05",
   "metadata": {
    "execution": {
     "iopub.execute_input": "2023-01-24T08:24:16.395006Z",
     "iopub.status.busy": "2023-01-24T08:24:16.394579Z",
     "iopub.status.idle": "2023-01-24T08:24:16.401159Z",
     "shell.execute_reply": "2023-01-24T08:24:16.399832Z"
    },
    "papermill": {
     "duration": 0.032956,
     "end_time": "2023-01-24T08:24:16.403733",
     "exception": false,
     "start_time": "2023-01-24T08:24:16.370777",
     "status": "completed"
    },
    "tags": []
   },
   "outputs": [
    {
     "data": {
      "text/plain": [
       "0.90625"
      ]
     },
     "execution_count": 33,
     "metadata": {},
     "output_type": "execute_result"
    }
   ],
   "source": [
    "Specificity=tn/(tn+fp)\n",
    "Specificity"
   ]
  },
  {
   "cell_type": "code",
   "execution_count": 34,
   "id": "36af15ff",
   "metadata": {
    "execution": {
     "iopub.execute_input": "2023-01-24T08:24:16.449973Z",
     "iopub.status.busy": "2023-01-24T08:24:16.449630Z",
     "iopub.status.idle": "2023-01-24T08:24:16.455725Z",
     "shell.execute_reply": "2023-01-24T08:24:16.454466Z"
    },
    "papermill": {
     "duration": 0.031542,
     "end_time": "2023-01-24T08:24:16.457582",
     "exception": false,
     "start_time": "2023-01-24T08:24:16.426040",
     "status": "completed"
    },
    "tags": []
   },
   "outputs": [
    {
     "data": {
      "text/plain": [
       "0.8774630541871922"
      ]
     },
     "execution_count": 34,
     "metadata": {},
     "output_type": "execute_result"
    }
   ],
   "source": [
    "F1_Score=(precision+sensitivity)/2\n",
    "F1_Score"
   ]
  },
  {
   "cell_type": "code",
   "execution_count": 35,
   "id": "9b1b701f",
   "metadata": {
    "execution": {
     "iopub.execute_input": "2023-01-24T08:24:16.504751Z",
     "iopub.status.busy": "2023-01-24T08:24:16.504402Z",
     "iopub.status.idle": "2023-01-24T08:24:16.515804Z",
     "shell.execute_reply": "2023-01-24T08:24:16.514365Z"
    },
    "papermill": {
     "duration": 0.037963,
     "end_time": "2023-01-24T08:24:16.517886",
     "exception": false,
     "start_time": "2023-01-24T08:24:16.479923",
     "status": "completed"
    },
    "tags": []
   },
   "outputs": [
    {
     "name": "stdout",
     "output_type": "stream",
     "text": [
      "              precision    recall  f1-score   support\n",
      "\n",
      "           0       0.89      0.86      0.88        29\n",
      "           1       0.88      0.91      0.89        32\n",
      "\n",
      "    accuracy                           0.89        61\n",
      "   macro avg       0.89      0.88      0.88        61\n",
      "weighted avg       0.89      0.89      0.89        61\n",
      "\n"
     ]
    }
   ],
   "source": [
    "print(classification_report(y_test,pred_lg))"
   ]
  },
  {
   "cell_type": "code",
   "execution_count": 36,
   "id": "65e1b286",
   "metadata": {
    "execution": {
     "iopub.execute_input": "2023-01-24T08:24:16.565876Z",
     "iopub.status.busy": "2023-01-24T08:24:16.565504Z",
     "iopub.status.idle": "2023-01-24T08:24:16.572477Z",
     "shell.execute_reply": "2023-01-24T08:24:16.571579Z"
    },
    "papermill": {
     "duration": 0.032514,
     "end_time": "2023-01-24T08:24:16.574273",
     "exception": false,
     "start_time": "2023-01-24T08:24:16.541759",
     "status": "completed"
    },
    "tags": []
   },
   "outputs": [
    {
     "data": {
      "text/plain": [
       "0.8852459016393442"
      ]
     },
     "execution_count": 36,
     "metadata": {},
     "output_type": "execute_result"
    }
   ],
   "source": [
    "Logistic_Regression_Accuracy = accuracy_score(y_test, pred_lg)\n",
    "Logistic_Regression_Accuracy"
   ]
  },
  {
   "cell_type": "markdown",
   "id": "c8b5fa05",
   "metadata": {
    "papermill": {
     "duration": 0.021908,
     "end_time": "2023-01-24T08:24:16.618489",
     "exception": false,
     "start_time": "2023-01-24T08:24:16.596581",
     "status": "completed"
    },
    "tags": []
   },
   "source": [
    "# KNeighbors Classifier"
   ]
  },
  {
   "cell_type": "code",
   "execution_count": 37,
   "id": "c20fba0a",
   "metadata": {
    "execution": {
     "iopub.execute_input": "2023-01-24T08:24:16.664582Z",
     "iopub.status.busy": "2023-01-24T08:24:16.664194Z",
     "iopub.status.idle": "2023-01-24T08:24:16.674379Z",
     "shell.execute_reply": "2023-01-24T08:24:16.673029Z"
    },
    "papermill": {
     "duration": 0.036114,
     "end_time": "2023-01-24T08:24:16.677231",
     "exception": false,
     "start_time": "2023-01-24T08:24:16.641117",
     "status": "completed"
    },
    "tags": []
   },
   "outputs": [
    {
     "data": {
      "text/plain": [
       "KNeighborsClassifier()"
      ]
     },
     "execution_count": 37,
     "metadata": {},
     "output_type": "execute_result"
    }
   ],
   "source": [
    "knn=KNeighborsClassifier(n_neighbors=5,metric='minkowski',p=2)\n",
    "knn.fit(x_train,y_train)"
   ]
  },
  {
   "cell_type": "code",
   "execution_count": 38,
   "id": "2b274b23",
   "metadata": {
    "execution": {
     "iopub.execute_input": "2023-01-24T08:24:16.723656Z",
     "iopub.status.busy": "2023-01-24T08:24:16.723252Z",
     "iopub.status.idle": "2023-01-24T08:24:16.733557Z",
     "shell.execute_reply": "2023-01-24T08:24:16.731990Z"
    },
    "papermill": {
     "duration": 0.03657,
     "end_time": "2023-01-24T08:24:16.736139",
     "exception": false,
     "start_time": "2023-01-24T08:24:16.699569",
     "status": "completed"
    },
    "tags": []
   },
   "outputs": [],
   "source": [
    "pred_knn=knn.predict(x_test)"
   ]
  },
  {
   "cell_type": "code",
   "execution_count": 39,
   "id": "57695144",
   "metadata": {
    "execution": {
     "iopub.execute_input": "2023-01-24T08:24:16.784775Z",
     "iopub.status.busy": "2023-01-24T08:24:16.784426Z",
     "iopub.status.idle": "2023-01-24T08:24:16.792935Z",
     "shell.execute_reply": "2023-01-24T08:24:16.791904Z"
    },
    "papermill": {
     "duration": 0.035619,
     "end_time": "2023-01-24T08:24:16.795511",
     "exception": false,
     "start_time": "2023-01-24T08:24:16.759892",
     "status": "completed"
    },
    "tags": []
   },
   "outputs": [
    {
     "data": {
      "text/plain": [
       "array([[18, 11],\n",
       "       [ 8, 24]])"
      ]
     },
     "execution_count": 39,
     "metadata": {},
     "output_type": "execute_result"
    }
   ],
   "source": [
    "cm_knn=confusion_matrix(y_test,pred_knn)\n",
    "cm_knn"
   ]
  },
  {
   "cell_type": "code",
   "execution_count": 40,
   "id": "ab8131ff",
   "metadata": {
    "execution": {
     "iopub.execute_input": "2023-01-24T08:24:16.841465Z",
     "iopub.status.busy": "2023-01-24T08:24:16.841119Z",
     "iopub.status.idle": "2023-01-24T08:24:17.008979Z",
     "shell.execute_reply": "2023-01-24T08:24:17.008003Z"
    },
    "papermill": {
     "duration": 0.193432,
     "end_time": "2023-01-24T08:24:17.011160",
     "exception": false,
     "start_time": "2023-01-24T08:24:16.817728",
     "status": "completed"
    },
    "tags": []
   },
   "outputs": [
    {
     "data": {
      "image/png": "[encoded data removed]",
      "text/plain": [
       "<Figure size 432x216 with 2 Axes>"
      ]
     },
     "metadata": {
      "needs_background": "light"
     },
     "output_type": "display_data"
    }
   ],
   "source": [
    "plt.figure(figsize=(6,3))\n",
    "sns.heatmap(cm_knn,annot=True)\n",
    "plt.show()"
   ]
  },
  {
   "cell_type": "code",
   "execution_count": 41,
   "id": "d15d55d0",
   "metadata": {
    "execution": {
     "iopub.execute_input": "2023-01-24T08:24:17.058945Z",
     "iopub.status.busy": "2023-01-24T08:24:17.058068Z",
     "iopub.status.idle": "2023-01-24T08:24:17.071589Z",
     "shell.execute_reply": "2023-01-24T08:24:17.070406Z"
    },
    "papermill": {
     "duration": 0.03943,
     "end_time": "2023-01-24T08:24:17.073285",
     "exception": false,
     "start_time": "2023-01-24T08:24:17.033855",
     "status": "completed"
    },
    "tags": []
   },
   "outputs": [
    {
     "name": "stdout",
     "output_type": "stream",
     "text": [
      "              precision    recall  f1-score   support\n",
      "\n",
      "           0       0.69      0.62      0.65        29\n",
      "           1       0.69      0.75      0.72        32\n",
      "\n",
      "    accuracy                           0.69        61\n",
      "   macro avg       0.69      0.69      0.69        61\n",
      "weighted avg       0.69      0.69      0.69        61\n",
      "\n"
     ]
    }
   ],
   "source": [
    "print(classification_report(y_test,pred_knn))"
   ]
  },
  {
   "cell_type": "code",
   "execution_count": 42,
   "id": "f12162fd",
   "metadata": {
    "execution": {
     "iopub.execute_input": "2023-01-24T08:24:17.120497Z",
     "iopub.status.busy": "2023-01-24T08:24:17.120048Z",
     "iopub.status.idle": "2023-01-24T08:24:17.128052Z",
     "shell.execute_reply": "2023-01-24T08:24:17.126665Z"
    },
    "papermill": {
     "duration": 0.033754,
     "end_time": "2023-01-24T08:24:17.130052",
     "exception": false,
     "start_time": "2023-01-24T08:24:17.096298",
     "status": "completed"
    },
    "tags": []
   },
   "outputs": [
    {
     "data": {
      "text/plain": [
       "0.6885245901639344"
      ]
     },
     "execution_count": 42,
     "metadata": {},
     "output_type": "execute_result"
    }
   ],
   "source": [
    "KNN_Accuracy=accuracy_score(y_test,pred_knn)\n",
    "KNN_Accuracy"
   ]
  },
  {
   "cell_type": "markdown",
   "id": "70e6270c",
   "metadata": {
    "papermill": {
     "duration": 0.022398,
     "end_time": "2023-01-24T08:24:17.175221",
     "exception": false,
     "start_time": "2023-01-24T08:24:17.152823",
     "status": "completed"
    },
    "tags": []
   },
   "source": [
    "## Random Forest Classifier"
   ]
  },
  {
   "cell_type": "code",
   "execution_count": 43,
   "id": "e9660c7a",
   "metadata": {
    "execution": {
     "iopub.execute_input": "2023-01-24T08:24:17.222063Z",
     "iopub.status.busy": "2023-01-24T08:24:17.221698Z",
     "iopub.status.idle": "2023-01-24T08:24:17.244034Z",
     "shell.execute_reply": "2023-01-24T08:24:17.243343Z"
    },
    "papermill": {
     "duration": 0.047912,
     "end_time": "2023-01-24T08:24:17.245774",
     "exception": false,
     "start_time": "2023-01-24T08:24:17.197862",
     "status": "completed"
    },
    "tags": []
   },
   "outputs": [
    {
     "data": {
      "text/plain": [
       "RandomForestClassifier(criterion='entropy', n_estimators=10)"
      ]
     },
     "execution_count": 43,
     "metadata": {},
     "output_type": "execute_result"
    }
   ],
   "source": [
    "rf=RandomForestClassifier(n_estimators=10,criterion='entropy')\n",
    "rf.fit(x_train,y_train)"
   ]
  },
  {
   "cell_type": "code",
   "execution_count": 44,
   "id": "8670e3e6",
   "metadata": {
    "execution": {
     "iopub.execute_input": "2023-01-24T08:24:17.292683Z",
     "iopub.status.busy": "2023-01-24T08:24:17.292295Z",
     "iopub.status.idle": "2023-01-24T08:24:17.300705Z",
     "shell.execute_reply": "2023-01-24T08:24:17.299954Z"
    },
    "papermill": {
     "duration": 0.034027,
     "end_time": "2023-01-24T08:24:17.302521",
     "exception": false,
     "start_time": "2023-01-24T08:24:17.268494",
     "status": "completed"
    },
    "tags": []
   },
   "outputs": [],
   "source": [
    "pred_rf=rf.predict(x_test)"
   ]
  },
  {
   "cell_type": "code",
   "execution_count": 45,
   "id": "8aa13c66",
   "metadata": {
    "execution": {
     "iopub.execute_input": "2023-01-24T08:24:17.351019Z",
     "iopub.status.busy": "2023-01-24T08:24:17.350663Z",
     "iopub.status.idle": "2023-01-24T08:24:17.356923Z",
     "shell.execute_reply": "2023-01-24T08:24:17.355787Z"
    },
    "papermill": {
     "duration": 0.033155,
     "end_time": "2023-01-24T08:24:17.358924",
     "exception": false,
     "start_time": "2023-01-24T08:24:17.325769",
     "status": "completed"
    },
    "tags": []
   },
   "outputs": [],
   "source": [
    "cm_rf=confusion_matrix(y_test,pred_rf)\n"
   ]
  },
  {
   "cell_type": "code",
   "execution_count": 46,
   "id": "4c7ed6bd",
   "metadata": {
    "execution": {
     "iopub.execute_input": "2023-01-24T08:24:17.406110Z",
     "iopub.status.busy": "2023-01-24T08:24:17.405774Z",
     "iopub.status.idle": "2023-01-24T08:24:17.411099Z",
     "shell.execute_reply": "2023-01-24T08:24:17.409850Z"
    },
    "papermill": {
     "duration": 0.031415,
     "end_time": "2023-01-24T08:24:17.413246",
     "exception": false,
     "start_time": "2023-01-24T08:24:17.381831",
     "status": "completed"
    },
    "tags": []
   },
   "outputs": [
    {
     "data": {
      "text/plain": [
       "array([[25,  4],\n",
       "       [ 7, 25]])"
      ]
     },
     "execution_count": 46,
     "metadata": {},
     "output_type": "execute_result"
    }
   ],
   "source": [
    "cm_rf"
   ]
  },
  {
   "cell_type": "code",
   "execution_count": 47,
   "id": "0b15d6cb",
   "metadata": {
    "execution": {
     "iopub.execute_input": "2023-01-24T08:24:17.460373Z",
     "iopub.status.busy": "2023-01-24T08:24:17.459676Z",
     "iopub.status.idle": "2023-01-24T08:24:17.751262Z",
     "shell.execute_reply": "2023-01-24T08:24:17.750358Z"
    },
    "papermill": {
     "duration": 0.31757,
     "end_time": "2023-01-24T08:24:17.753441",
     "exception": false,
     "start_time": "2023-01-24T08:24:17.435871",
     "status": "completed"
    },
    "tags": []
   },
   "outputs": [
    {
     "data": {
      "image/png": "[encoded data removed]",
      "text/plain": [
       "<Figure size 432x216 with 2 Axes>"
      ]
     },
     "metadata": {
      "needs_background": "light"
     },
     "output_type": "display_data"
    }
   ],
   "source": [
    "plt.figure(figsize=(6,3))\n",
    "sns.heatmap(cm_rf,annot=True)\n",
    "plt.show()"
   ]
  },
  {
   "cell_type": "code",
   "execution_count": 48,
   "id": "bc6efd02",
   "metadata": {
    "execution": {
     "iopub.execute_input": "2023-01-24T08:24:17.803099Z",
     "iopub.status.busy": "2023-01-24T08:24:17.802733Z",
     "iopub.status.idle": "2023-01-24T08:24:17.809620Z",
     "shell.execute_reply": "2023-01-24T08:24:17.808365Z"
    },
    "papermill": {
     "duration": 0.033855,
     "end_time": "2023-01-24T08:24:17.811598",
     "exception": false,
     "start_time": "2023-01-24T08:24:17.777743",
     "status": "completed"
    },
    "tags": []
   },
   "outputs": [
    {
     "data": {
      "text/plain": [
       "0.819672131147541"
      ]
     },
     "execution_count": 48,
     "metadata": {},
     "output_type": "execute_result"
    }
   ],
   "source": [
    "Random_Forest_Accuracy=accuracy_score(y_test,pred_rf)\n",
    "Random_Forest_Accuracy"
   ]
  },
  {
   "cell_type": "markdown",
   "id": "a1f0431c",
   "metadata": {
    "papermill": {
     "duration": 0.022867,
     "end_time": "2023-01-24T08:24:17.857446",
     "exception": false,
     "start_time": "2023-01-24T08:24:17.834579",
     "status": "completed"
    },
    "tags": []
   },
   "source": [
    "## Decision Tree Algorithm"
   ]
  },
  {
   "cell_type": "code",
   "execution_count": 49,
   "id": "d1854095",
   "metadata": {
    "execution": {
     "iopub.execute_input": "2023-01-24T08:24:17.905595Z",
     "iopub.status.busy": "2023-01-24T08:24:17.905227Z",
     "iopub.status.idle": "2023-01-24T08:24:17.909557Z",
     "shell.execute_reply": "2023-01-24T08:24:17.908641Z"
    },
    "papermill": {
     "duration": 0.030811,
     "end_time": "2023-01-24T08:24:17.911729",
     "exception": false,
     "start_time": "2023-01-24T08:24:17.880918",
     "status": "completed"
    },
    "tags": []
   },
   "outputs": [],
   "source": [
    "dt = DecisionTreeClassifier()"
   ]
  },
  {
   "cell_type": "code",
   "execution_count": 50,
   "id": "1dfe9ce2",
   "metadata": {
    "execution": {
     "iopub.execute_input": "2023-01-24T08:24:17.960265Z",
     "iopub.status.busy": "2023-01-24T08:24:17.959927Z",
     "iopub.status.idle": "2023-01-24T08:24:17.968891Z",
     "shell.execute_reply": "2023-01-24T08:24:17.968129Z"
    },
    "papermill": {
     "duration": 0.035397,
     "end_time": "2023-01-24T08:24:17.970726",
     "exception": false,
     "start_time": "2023-01-24T08:24:17.935329",
     "status": "completed"
    },
    "tags": []
   },
   "outputs": [
    {
     "data": {
      "text/plain": [
       "DecisionTreeClassifier()"
      ]
     },
     "execution_count": 50,
     "metadata": {},
     "output_type": "execute_result"
    }
   ],
   "source": [
    "dt.fit(x,y)"
   ]
  },
  {
   "cell_type": "code",
   "execution_count": 51,
   "id": "a3735b2b",
   "metadata": {
    "execution": {
     "iopub.execute_input": "2023-01-24T08:24:18.019660Z",
     "iopub.status.busy": "2023-01-24T08:24:18.019020Z",
     "iopub.status.idle": "2023-01-24T08:24:21.264530Z",
     "shell.execute_reply": "2023-01-24T08:24:21.263633Z"
    },
    "papermill": {
     "duration": 3.27218,
     "end_time": "2023-01-24T08:24:21.266448",
     "exception": false,
     "start_time": "2023-01-24T08:24:17.994268",
     "status": "completed"
    },
    "tags": []
   },
   "outputs": [
    {
     "data": {
      "text/plain": [
       "[Text(0.5104166666666666, 0.9545454545454546, 'X[2] <= 0.5\\ngini = 0.496\\nsamples = 303\\nvalue = [138, 165]'),\n",
       " Text(0.2638888888888889, 0.8636363636363636, 'X[11] <= 0.5\\ngini = 0.397\\nsamples = 143\\nvalue = [104, 39]'),\n",
       " Text(0.16666666666666666, 0.7727272727272727, 'X[12] <= 2.5\\ngini = 0.499\\nsamples = 65\\nvalue = [31, 34]'),\n",
       " Text(0.09259259259259259, 0.6818181818181818, 'X[8] <= 0.5\\ngini = 0.361\\nsamples = 38\\nvalue = [9, 29]'),\n",
       " Text(0.037037037037037035, 0.5909090909090909, 'X[7] <= 96.5\\ngini = 0.153\\nsamples = 24\\nvalue = [2, 22]'),\n",
       " Text(0.018518518518518517, 0.5, 'gini = 0.0\\nsamples = 1\\nvalue = [1, 0]'),\n",
       " Text(0.05555555555555555, 0.5, 'X[4] <= 316.5\\ngini = 0.083\\nsamples = 23\\nvalue = [1, 22]'),\n",
       " Text(0.037037037037037035, 0.4090909090909091, 'gini = 0.0\\nsamples = 21\\nvalue = [0, 21]'),\n",
       " Text(0.07407407407407407, 0.4090909090909091, 'X[0] <= 61.5\\ngini = 0.5\\nsamples = 2\\nvalue = [1, 1]'),\n",
       " Text(0.05555555555555555, 0.3181818181818182, 'gini = 0.0\\nsamples = 1\\nvalue = [1, 0]'),\n",
       " Text(0.09259259259259259, 0.3181818181818182, 'gini = 0.0\\nsamples = 1\\nvalue = [0, 1]'),\n",
       " Text(0.14814814814814814, 0.5909090909090909, 'X[6] <= 0.5\\ngini = 0.5\\nsamples = 14\\nvalue = [7, 7]'),\n",
       " Text(0.12962962962962962, 0.5, 'gini = 0.0\\nsamples = 4\\nvalue = [0, 4]'),\n",
       " Text(0.16666666666666666, 0.5, 'X[10] <= 1.5\\ngini = 0.42\\nsamples = 10\\nvalue = [7, 3]'),\n",
       " Text(0.14814814814814814, 0.4090909090909091, 'X[3] <= 115.0\\ngini = 0.219\\nsamples = 8\\nvalue = [7, 1]'),\n",
       " Text(0.12962962962962962, 0.3181818181818182, 'gini = 0.0\\nsamples = 1\\nvalue = [0, 1]'),\n",
       " Text(0.16666666666666666, 0.3181818181818182, 'gini = 0.0\\nsamples = 7\\nvalue = [7, 0]'),\n",
       " Text(0.18518518518518517, 0.4090909090909091, 'gini = 0.0\\nsamples = 2\\nvalue = [0, 2]'),\n",
       " Text(0.24074074074074073, 0.6818181818181818, 'X[9] <= 0.65\\ngini = 0.302\\nsamples = 27\\nvalue = [22, 5]'),\n",
       " Text(0.2222222222222222, 0.5909090909090909, 'X[0] <= 42.0\\ngini = 0.5\\nsamples = 10\\nvalue = [5, 5]'),\n",
       " Text(0.2037037037037037, 0.5, 'gini = 0.0\\nsamples = 3\\nvalue = [3, 0]'),\n",
       " Text(0.24074074074074073, 0.5, 'X[4] <= 237.5\\ngini = 0.408\\nsamples = 7\\nvalue = [2, 5]'),\n",
       " Text(0.2222222222222222, 0.4090909090909091, 'gini = 0.0\\nsamples = 5\\nvalue = [0, 5]'),\n",
       " Text(0.25925925925925924, 0.4090909090909091, 'gini = 0.0\\nsamples = 2\\nvalue = [2, 0]'),\n",
       " Text(0.25925925925925924, 0.5909090909090909, 'gini = 0.0\\nsamples = 17\\nvalue = [17, 0]'),\n",
       " Text(0.3611111111111111, 0.7727272727272727, 'X[3] <= 109.0\\ngini = 0.12\\nsamples = 78\\nvalue = [73, 5]'),\n",
       " Text(0.3148148148148148, 0.6818181818181818, 'X[4] <= 233.5\\ngini = 0.48\\nsamples = 5\\nvalue = [3, 2]'),\n",
       " Text(0.2962962962962963, 0.5909090909090909, 'gini = 0.0\\nsamples = 2\\nvalue = [0, 2]'),\n",
       " Text(0.3333333333333333, 0.5909090909090909, 'gini = 0.0\\nsamples = 3\\nvalue = [3, 0]'),\n",
       " Text(0.4074074074074074, 0.6818181818181818, 'X[4] <= 301.5\\ngini = 0.079\\nsamples = 73\\nvalue = [70, 3]'),\n",
       " Text(0.37037037037037035, 0.5909090909090909, 'X[7] <= 105.5\\ngini = 0.032\\nsamples = 61\\nvalue = [60, 1]'),\n",
       " Text(0.35185185185185186, 0.5, 'X[9] <= 0.6\\ngini = 0.219\\nsamples = 8\\nvalue = [7, 1]'),\n",
       " Text(0.3333333333333333, 0.4090909090909091, 'gini = 0.0\\nsamples = 1\\nvalue = [0, 1]'),\n",
       " Text(0.37037037037037035, 0.4090909090909091, 'gini = 0.0\\nsamples = 7\\nvalue = [7, 0]'),\n",
       " Text(0.3888888888888889, 0.5, 'gini = 0.0\\nsamples = 53\\nvalue = [53, 0]'),\n",
       " Text(0.4444444444444444, 0.5909090909090909, 'X[4] <= 303.5\\ngini = 0.278\\nsamples = 12\\nvalue = [10, 2]'),\n",
       " Text(0.42592592592592593, 0.5, 'gini = 0.0\\nsamples = 2\\nvalue = [0, 2]'),\n",
       " Text(0.46296296296296297, 0.5, 'gini = 0.0\\nsamples = 10\\nvalue = [10, 0]'),\n",
       " Text(0.7569444444444444, 0.8636363636363636, 'X[12] <= 2.5\\ngini = 0.335\\nsamples = 160\\nvalue = [34, 126]'),\n",
       " Text(0.6342592592592593, 0.7727272727272727, 'X[0] <= 55.5\\ngini = 0.229\\nsamples = 121\\nvalue = [16, 105]'),\n",
       " Text(0.5555555555555556, 0.6818181818181818, 'X[9] <= 3.55\\ngini = 0.076\\nsamples = 76\\nvalue = [3, 73]'),\n",
       " Text(0.5370370370370371, 0.5909090909090909, 'X[4] <= 153.0\\ngini = 0.052\\nsamples = 75\\nvalue = [2, 73]'),\n",
       " Text(0.5, 0.5, 'X[11] <= 1.5\\ngini = 0.5\\nsamples = 2\\nvalue = [1, 1]'),\n",
       " Text(0.48148148148148145, 0.4090909090909091, 'gini = 0.0\\nsamples = 1\\nvalue = [0, 1]'),\n",
       " Text(0.5185185185185185, 0.4090909090909091, 'gini = 0.0\\nsamples = 1\\nvalue = [1, 0]'),\n",
       " Text(0.5740740740740741, 0.5, 'X[3] <= 109.0\\ngini = 0.027\\nsamples = 73\\nvalue = [1, 72]'),\n",
       " Text(0.5555555555555556, 0.4090909090909091, 'X[4] <= 232.5\\ngini = 0.278\\nsamples = 6\\nvalue = [1, 5]'),\n",
       " Text(0.5370370370370371, 0.3181818181818182, 'gini = 0.0\\nsamples = 4\\nvalue = [0, 4]'),\n",
       " Text(0.5740740740740741, 0.3181818181818182, 'X[4] <= 255.0\\ngini = 0.5\\nsamples = 2\\nvalue = [1, 1]'),\n",
       " Text(0.5555555555555556, 0.22727272727272727, 'gini = 0.0\\nsamples = 1\\nvalue = [1, 0]'),\n",
       " Text(0.5925925925925926, 0.22727272727272727, 'gini = 0.0\\nsamples = 1\\nvalue = [0, 1]'),\n",
       " Text(0.5925925925925926, 0.4090909090909091, 'gini = 0.0\\nsamples = 67\\nvalue = [0, 67]'),\n",
       " Text(0.5740740740740741, 0.5909090909090909, 'gini = 0.0\\nsamples = 1\\nvalue = [1, 0]'),\n",
       " Text(0.7129629629629629, 0.6818181818181818, 'X[1] <= 0.5\\ngini = 0.411\\nsamples = 45\\nvalue = [13, 32]'),\n",
       " Text(0.6666666666666666, 0.5909090909090909, 'X[0] <= 59.0\\ngini = 0.165\\nsamples = 22\\nvalue = [2, 20]'),\n",
       " Text(0.6481481481481481, 0.5, 'X[11] <= 0.5\\ngini = 0.48\\nsamples = 5\\nvalue = [2, 3]'),\n",
       " Text(0.6296296296296297, 0.4090909090909091, 'gini = 0.0\\nsamples = 3\\nvalue = [0, 3]'),\n",
       " Text(0.6666666666666666, 0.4090909090909091, 'gini = 0.0\\nsamples = 2\\nvalue = [2, 0]'),\n",
       " Text(0.6851851851851852, 0.5, 'gini = 0.0\\nsamples = 17\\nvalue = [0, 17]'),\n",
       " Text(0.7592592592592593, 0.5909090909090909, 'X[4] <= 245.5\\ngini = 0.499\\nsamples = 23\\nvalue = [11, 12]'),\n",
       " Text(0.7407407407407407, 0.5, 'X[11] <= 0.5\\ngini = 0.415\\nsamples = 17\\nvalue = [5, 12]'),\n",
       " Text(0.7037037037037037, 0.4090909090909091, 'X[9] <= 2.65\\ngini = 0.153\\nsamples = 12\\nvalue = [1, 11]'),\n",
       " Text(0.6851851851851852, 0.3181818181818182, 'gini = 0.0\\nsamples = 11\\nvalue = [0, 11]'),\n",
       " Text(0.7222222222222222, 0.3181818181818182, 'gini = 0.0\\nsamples = 1\\nvalue = [1, 0]'),\n",
       " Text(0.7777777777777778, 0.4090909090909091, 'X[7] <= 132.5\\ngini = 0.32\\nsamples = 5\\nvalue = [4, 1]'),\n",
       " Text(0.7592592592592593, 0.3181818181818182, 'gini = 0.0\\nsamples = 1\\nvalue = [0, 1]'),\n",
       " Text(0.7962962962962963, 0.3181818181818182, 'gini = 0.0\\nsamples = 4\\nvalue = [4, 0]'),\n",
       " Text(0.7777777777777778, 0.5, 'gini = 0.0\\nsamples = 6\\nvalue = [6, 0]'),\n",
       " Text(0.8796296296296297, 0.7727272727272727, 'X[7] <= 142.5\\ngini = 0.497\\nsamples = 39\\nvalue = [18, 21]'),\n",
       " Text(0.8333333333333334, 0.6818181818181818, 'X[4] <= 311.0\\ngini = 0.219\\nsamples = 8\\nvalue = [7, 1]'),\n",
       " Text(0.8148148148148148, 0.5909090909090909, 'gini = 0.0\\nsamples = 7\\nvalue = [7, 0]'),\n",
       " Text(0.8518518518518519, 0.5909090909090909, 'gini = 0.0\\nsamples = 1\\nvalue = [0, 1]'),\n",
       " Text(0.9259259259259259, 0.6818181818181818, 'X[9] <= 1.95\\ngini = 0.458\\nsamples = 31\\nvalue = [11, 20]'),\n",
       " Text(0.8888888888888888, 0.5909090909090909, 'X[3] <= 176.0\\ngini = 0.393\\nsamples = 26\\nvalue = [7, 19]'),\n",
       " Text(0.8703703703703703, 0.5, 'X[10] <= 1.5\\ngini = 0.33\\nsamples = 24\\nvalue = [5, 19]'),\n",
       " Text(0.8518518518518519, 0.4090909090909091, 'X[9] <= 1.1\\ngini = 0.459\\nsamples = 14\\nvalue = [5, 9]'),\n",
       " Text(0.8333333333333334, 0.3181818181818182, 'X[3] <= 126.5\\ngini = 0.5\\nsamples = 10\\nvalue = [5, 5]'),\n",
       " Text(0.7962962962962963, 0.22727272727272727, 'X[9] <= 0.9\\ngini = 0.32\\nsamples = 5\\nvalue = [1, 4]'),\n",
       " Text(0.7777777777777778, 0.13636363636363635, 'gini = 0.0\\nsamples = 4\\nvalue = [0, 4]'),\n",
       " Text(0.8148148148148148, 0.13636363636363635, 'gini = 0.0\\nsamples = 1\\nvalue = [1, 0]'),\n",
       " Text(0.8703703703703703, 0.22727272727272727, 'X[2] <= 2.5\\ngini = 0.32\\nsamples = 5\\nvalue = [4, 1]'),\n",
       " Text(0.8518518518518519, 0.13636363636363635, 'gini = 0.0\\nsamples = 3\\nvalue = [3, 0]'),\n",
       " Text(0.8888888888888888, 0.13636363636363635, 'X[0] <= 61.5\\ngini = 0.5\\nsamples = 2\\nvalue = [1, 1]'),\n",
       " Text(0.8703703703703703, 0.045454545454545456, 'gini = 0.0\\nsamples = 1\\nvalue = [1, 0]'),\n",
       " Text(0.9074074074074074, 0.045454545454545456, 'gini = 0.0\\nsamples = 1\\nvalue = [0, 1]'),\n",
       " Text(0.8703703703703703, 0.3181818181818182, 'gini = 0.0\\nsamples = 4\\nvalue = [0, 4]'),\n",
       " Text(0.8888888888888888, 0.4090909090909091, 'gini = 0.0\\nsamples = 10\\nvalue = [0, 10]'),\n",
       " Text(0.9074074074074074, 0.5, 'gini = 0.0\\nsamples = 2\\nvalue = [2, 0]'),\n",
       " Text(0.9629629629629629, 0.5909090909090909, 'X[10] <= 0.5\\ngini = 0.32\\nsamples = 5\\nvalue = [4, 1]'),\n",
       " Text(0.9444444444444444, 0.5, 'gini = 0.0\\nsamples = 1\\nvalue = [0, 1]'),\n",
       " Text(0.9814814814814815, 0.5, 'gini = 0.0\\nsamples = 4\\nvalue = [4, 0]')]"
      ]
     },
     "execution_count": 51,
     "metadata": {},
     "output_type": "execute_result"
    },
    {
     "data": {
      "image/png": "[encoded data removed]",
      "text/plain": [
       "<Figure size 432x288 with 1 Axes>"
      ]
     },
     "metadata": {
      "needs_background": "light"
     },
     "output_type": "display_data"
    }
   ],
   "source": [
    "tree.plot_tree(dt)"
   ]
  },
  {
   "cell_type": "code",
   "execution_count": 52,
   "id": "d32d6e92",
   "metadata": {
    "execution": {
     "iopub.execute_input": "2023-01-24T08:24:21.318437Z",
     "iopub.status.busy": "2023-01-24T08:24:21.318042Z",
     "iopub.status.idle": "2023-01-24T08:24:24.527219Z",
     "shell.execute_reply": "2023-01-24T08:24:24.526344Z"
    },
    "papermill": {
     "duration": 3.238748,
     "end_time": "2023-01-24T08:24:24.529343",
     "exception": false,
     "start_time": "2023-01-24T08:24:21.290595",
     "status": "completed"
    },
    "tags": []
   },
   "outputs": [
    {
     "data": {
      "text/plain": [
       "[Text(0.5104166666666666, 0.9545454545454546, 'X[2] <= 0.5\\ngini = 0.496\\nsamples = 303\\nvalue = [138, 165]'),\n",
       " Text(0.2638888888888889, 0.8636363636363636, 'X[11] <= 0.5\\ngini = 0.397\\nsamples = 143\\nvalue = [104, 39]'),\n",
       " Text(0.16666666666666666, 0.7727272727272727, 'X[12] <= 2.5\\ngini = 0.499\\nsamples = 65\\nvalue = [31, 34]'),\n",
       " Text(0.09259259259259259, 0.6818181818181818, 'X[8] <= 0.5\\ngini = 0.361\\nsamples = 38\\nvalue = [9, 29]'),\n",
       " Text(0.037037037037037035, 0.5909090909090909, 'X[7] <= 96.5\\ngini = 0.153\\nsamples = 24\\nvalue = [2, 22]'),\n",
       " Text(0.018518518518518517, 0.5, 'gini = 0.0\\nsamples = 1\\nvalue = [1, 0]'),\n",
       " Text(0.05555555555555555, 0.5, 'X[4] <= 316.5\\ngini = 0.083\\nsamples = 23\\nvalue = [1, 22]'),\n",
       " Text(0.037037037037037035, 0.4090909090909091, 'gini = 0.0\\nsamples = 21\\nvalue = [0, 21]'),\n",
       " Text(0.07407407407407407, 0.4090909090909091, 'X[0] <= 61.5\\ngini = 0.5\\nsamples = 2\\nvalue = [1, 1]'),\n",
       " Text(0.05555555555555555, 0.3181818181818182, 'gini = 0.0\\nsamples = 1\\nvalue = [1, 0]'),\n",
       " Text(0.09259259259259259, 0.3181818181818182, 'gini = 0.0\\nsamples = 1\\nvalue = [0, 1]'),\n",
       " Text(0.14814814814814814, 0.5909090909090909, 'X[6] <= 0.5\\ngini = 0.5\\nsamples = 14\\nvalue = [7, 7]'),\n",
       " Text(0.12962962962962962, 0.5, 'gini = 0.0\\nsamples = 4\\nvalue = [0, 4]'),\n",
       " Text(0.16666666666666666, 0.5, 'X[10] <= 1.5\\ngini = 0.42\\nsamples = 10\\nvalue = [7, 3]'),\n",
       " Text(0.14814814814814814, 0.4090909090909091, 'X[3] <= 115.0\\ngini = 0.219\\nsamples = 8\\nvalue = [7, 1]'),\n",
       " Text(0.12962962962962962, 0.3181818181818182, 'gini = 0.0\\nsamples = 1\\nvalue = [0, 1]'),\n",
       " Text(0.16666666666666666, 0.3181818181818182, 'gini = 0.0\\nsamples = 7\\nvalue = [7, 0]'),\n",
       " Text(0.18518518518518517, 0.4090909090909091, 'gini = 0.0\\nsamples = 2\\nvalue = [0, 2]'),\n",
       " Text(0.24074074074074073, 0.6818181818181818, 'X[9] <= 0.65\\ngini = 0.302\\nsamples = 27\\nvalue = [22, 5]'),\n",
       " Text(0.2222222222222222, 0.5909090909090909, 'X[0] <= 42.0\\ngini = 0.5\\nsamples = 10\\nvalue = [5, 5]'),\n",
       " Text(0.2037037037037037, 0.5, 'gini = 0.0\\nsamples = 3\\nvalue = [3, 0]'),\n",
       " Text(0.24074074074074073, 0.5, 'X[4] <= 237.5\\ngini = 0.408\\nsamples = 7\\nvalue = [2, 5]'),\n",
       " Text(0.2222222222222222, 0.4090909090909091, 'gini = 0.0\\nsamples = 5\\nvalue = [0, 5]'),\n",
       " Text(0.25925925925925924, 0.4090909090909091, 'gini = 0.0\\nsamples = 2\\nvalue = [2, 0]'),\n",
       " Text(0.25925925925925924, 0.5909090909090909, 'gini = 0.0\\nsamples = 17\\nvalue = [17, 0]'),\n",
       " Text(0.3611111111111111, 0.7727272727272727, 'X[3] <= 109.0\\ngini = 0.12\\nsamples = 78\\nvalue = [73, 5]'),\n",
       " Text(0.3148148148148148, 0.6818181818181818, 'X[4] <= 233.5\\ngini = 0.48\\nsamples = 5\\nvalue = [3, 2]'),\n",
       " Text(0.2962962962962963, 0.5909090909090909, 'gini = 0.0\\nsamples = 2\\nvalue = [0, 2]'),\n",
       " Text(0.3333333333333333, 0.5909090909090909, 'gini = 0.0\\nsamples = 3\\nvalue = [3, 0]'),\n",
       " Text(0.4074074074074074, 0.6818181818181818, 'X[4] <= 301.5\\ngini = 0.079\\nsamples = 73\\nvalue = [70, 3]'),\n",
       " Text(0.37037037037037035, 0.5909090909090909, 'X[7] <= 105.5\\ngini = 0.032\\nsamples = 61\\nvalue = [60, 1]'),\n",
       " Text(0.35185185185185186, 0.5, 'X[9] <= 0.6\\ngini = 0.219\\nsamples = 8\\nvalue = [7, 1]'),\n",
       " Text(0.3333333333333333, 0.4090909090909091, 'gini = 0.0\\nsamples = 1\\nvalue = [0, 1]'),\n",
       " Text(0.37037037037037035, 0.4090909090909091, 'gini = 0.0\\nsamples = 7\\nvalue = [7, 0]'),\n",
       " Text(0.3888888888888889, 0.5, 'gini = 0.0\\nsamples = 53\\nvalue = [53, 0]'),\n",
       " Text(0.4444444444444444, 0.5909090909090909, 'X[4] <= 303.5\\ngini = 0.278\\nsamples = 12\\nvalue = [10, 2]'),\n",
       " Text(0.42592592592592593, 0.5, 'gini = 0.0\\nsamples = 2\\nvalue = [0, 2]'),\n",
       " Text(0.46296296296296297, 0.5, 'gini = 0.0\\nsamples = 10\\nvalue = [10, 0]'),\n",
       " Text(0.7569444444444444, 0.8636363636363636, 'X[12] <= 2.5\\ngini = 0.335\\nsamples = 160\\nvalue = [34, 126]'),\n",
       " Text(0.6342592592592593, 0.7727272727272727, 'X[0] <= 55.5\\ngini = 0.229\\nsamples = 121\\nvalue = [16, 105]'),\n",
       " Text(0.5555555555555556, 0.6818181818181818, 'X[9] <= 3.55\\ngini = 0.076\\nsamples = 76\\nvalue = [3, 73]'),\n",
       " Text(0.5370370370370371, 0.5909090909090909, 'X[4] <= 153.0\\ngini = 0.052\\nsamples = 75\\nvalue = [2, 73]'),\n",
       " Text(0.5, 0.5, 'X[11] <= 1.5\\ngini = 0.5\\nsamples = 2\\nvalue = [1, 1]'),\n",
       " Text(0.48148148148148145, 0.4090909090909091, 'gini = 0.0\\nsamples = 1\\nvalue = [0, 1]'),\n",
       " Text(0.5185185185185185, 0.4090909090909091, 'gini = 0.0\\nsamples = 1\\nvalue = [1, 0]'),\n",
       " Text(0.5740740740740741, 0.5, 'X[3] <= 109.0\\ngini = 0.027\\nsamples = 73\\nvalue = [1, 72]'),\n",
       " Text(0.5555555555555556, 0.4090909090909091, 'X[4] <= 232.5\\ngini = 0.278\\nsamples = 6\\nvalue = [1, 5]'),\n",
       " Text(0.5370370370370371, 0.3181818181818182, 'gini = 0.0\\nsamples = 4\\nvalue = [0, 4]'),\n",
       " Text(0.5740740740740741, 0.3181818181818182, 'X[4] <= 255.0\\ngini = 0.5\\nsamples = 2\\nvalue = [1, 1]'),\n",
       " Text(0.5555555555555556, 0.22727272727272727, 'gini = 0.0\\nsamples = 1\\nvalue = [1, 0]'),\n",
       " Text(0.5925925925925926, 0.22727272727272727, 'gini = 0.0\\nsamples = 1\\nvalue = [0, 1]'),\n",
       " Text(0.5925925925925926, 0.4090909090909091, 'gini = 0.0\\nsamples = 67\\nvalue = [0, 67]'),\n",
       " Text(0.5740740740740741, 0.5909090909090909, 'gini = 0.0\\nsamples = 1\\nvalue = [1, 0]'),\n",
       " Text(0.7129629629629629, 0.6818181818181818, 'X[1] <= 0.5\\ngini = 0.411\\nsamples = 45\\nvalue = [13, 32]'),\n",
       " Text(0.6666666666666666, 0.5909090909090909, 'X[0] <= 59.0\\ngini = 0.165\\nsamples = 22\\nvalue = [2, 20]'),\n",
       " Text(0.6481481481481481, 0.5, 'X[11] <= 0.5\\ngini = 0.48\\nsamples = 5\\nvalue = [2, 3]'),\n",
       " Text(0.6296296296296297, 0.4090909090909091, 'gini = 0.0\\nsamples = 3\\nvalue = [0, 3]'),\n",
       " Text(0.6666666666666666, 0.4090909090909091, 'gini = 0.0\\nsamples = 2\\nvalue = [2, 0]'),\n",
       " Text(0.6851851851851852, 0.5, 'gini = 0.0\\nsamples = 17\\nvalue = [0, 17]'),\n",
       " Text(0.7592592592592593, 0.5909090909090909, 'X[4] <= 245.5\\ngini = 0.499\\nsamples = 23\\nvalue = [11, 12]'),\n",
       " Text(0.7407407407407407, 0.5, 'X[11] <= 0.5\\ngini = 0.415\\nsamples = 17\\nvalue = [5, 12]'),\n",
       " Text(0.7037037037037037, 0.4090909090909091, 'X[9] <= 2.65\\ngini = 0.153\\nsamples = 12\\nvalue = [1, 11]'),\n",
       " Text(0.6851851851851852, 0.3181818181818182, 'gini = 0.0\\nsamples = 11\\nvalue = [0, 11]'),\n",
       " Text(0.7222222222222222, 0.3181818181818182, 'gini = 0.0\\nsamples = 1\\nvalue = [1, 0]'),\n",
       " Text(0.7777777777777778, 0.4090909090909091, 'X[7] <= 132.5\\ngini = 0.32\\nsamples = 5\\nvalue = [4, 1]'),\n",
       " Text(0.7592592592592593, 0.3181818181818182, 'gini = 0.0\\nsamples = 1\\nvalue = [0, 1]'),\n",
       " Text(0.7962962962962963, 0.3181818181818182, 'gini = 0.0\\nsamples = 4\\nvalue = [4, 0]'),\n",
       " Text(0.7777777777777778, 0.5, 'gini = 0.0\\nsamples = 6\\nvalue = [6, 0]'),\n",
       " Text(0.8796296296296297, 0.7727272727272727, 'X[7] <= 142.5\\ngini = 0.497\\nsamples = 39\\nvalue = [18, 21]'),\n",
       " Text(0.8333333333333334, 0.6818181818181818, 'X[4] <= 311.0\\ngini = 0.219\\nsamples = 8\\nvalue = [7, 1]'),\n",
       " Text(0.8148148148148148, 0.5909090909090909, 'gini = 0.0\\nsamples = 7\\nvalue = [7, 0]'),\n",
       " Text(0.8518518518518519, 0.5909090909090909, 'gini = 0.0\\nsamples = 1\\nvalue = [0, 1]'),\n",
       " Text(0.9259259259259259, 0.6818181818181818, 'X[9] <= 1.95\\ngini = 0.458\\nsamples = 31\\nvalue = [11, 20]'),\n",
       " Text(0.8888888888888888, 0.5909090909090909, 'X[3] <= 176.0\\ngini = 0.393\\nsamples = 26\\nvalue = [7, 19]'),\n",
       " Text(0.8703703703703703, 0.5, 'X[10] <= 1.5\\ngini = 0.33\\nsamples = 24\\nvalue = [5, 19]'),\n",
       " Text(0.8518518518518519, 0.4090909090909091, 'X[9] <= 1.1\\ngini = 0.459\\nsamples = 14\\nvalue = [5, 9]'),\n",
       " Text(0.8333333333333334, 0.3181818181818182, 'X[3] <= 126.5\\ngini = 0.5\\nsamples = 10\\nvalue = [5, 5]'),\n",
       " Text(0.7962962962962963, 0.22727272727272727, 'X[9] <= 0.9\\ngini = 0.32\\nsamples = 5\\nvalue = [1, 4]'),\n",
       " Text(0.7777777777777778, 0.13636363636363635, 'gini = 0.0\\nsamples = 4\\nvalue = [0, 4]'),\n",
       " Text(0.8148148148148148, 0.13636363636363635, 'gini = 0.0\\nsamples = 1\\nvalue = [1, 0]'),\n",
       " Text(0.8703703703703703, 0.22727272727272727, 'X[2] <= 2.5\\ngini = 0.32\\nsamples = 5\\nvalue = [4, 1]'),\n",
       " Text(0.8518518518518519, 0.13636363636363635, 'gini = 0.0\\nsamples = 3\\nvalue = [3, 0]'),\n",
       " Text(0.8888888888888888, 0.13636363636363635, 'X[0] <= 61.5\\ngini = 0.5\\nsamples = 2\\nvalue = [1, 1]'),\n",
       " Text(0.8703703703703703, 0.045454545454545456, 'gini = 0.0\\nsamples = 1\\nvalue = [1, 0]'),\n",
       " Text(0.9074074074074074, 0.045454545454545456, 'gini = 0.0\\nsamples = 1\\nvalue = [0, 1]'),\n",
       " Text(0.8703703703703703, 0.3181818181818182, 'gini = 0.0\\nsamples = 4\\nvalue = [0, 4]'),\n",
       " Text(0.8888888888888888, 0.4090909090909091, 'gini = 0.0\\nsamples = 10\\nvalue = [0, 10]'),\n",
       " Text(0.9074074074074074, 0.5, 'gini = 0.0\\nsamples = 2\\nvalue = [2, 0]'),\n",
       " Text(0.9629629629629629, 0.5909090909090909, 'X[10] <= 0.5\\ngini = 0.32\\nsamples = 5\\nvalue = [4, 1]'),\n",
       " Text(0.9444444444444444, 0.5, 'gini = 0.0\\nsamples = 1\\nvalue = [0, 1]'),\n",
       " Text(0.9814814814814815, 0.5, 'gini = 0.0\\nsamples = 4\\nvalue = [4, 0]')]"
      ]
     },
     "execution_count": 52,
     "metadata": {},
     "output_type": "execute_result"
    },
    {
     "data": {
      "image/png": "[encoded data removed]",
      "text/plain": [
       "<Figure size 432x288 with 1 Axes>"
      ]
     },
     "metadata": {
      "needs_background": "light"
     },
     "output_type": "display_data"
    }
   ],
   "source": [
    "tree.plot_tree(dt, filled=True)"
   ]
  },
  {
   "cell_type": "code",
   "execution_count": 53,
   "id": "4e3ada67",
   "metadata": {
    "execution": {
     "iopub.execute_input": "2023-01-24T08:24:24.580112Z",
     "iopub.status.busy": "2023-01-24T08:24:24.579754Z",
     "iopub.status.idle": "2023-01-24T08:24:24.586113Z",
     "shell.execute_reply": "2023-01-24T08:24:24.585213Z"
    },
    "papermill": {
     "duration": 0.034021,
     "end_time": "2023-01-24T08:24:24.588566",
     "exception": false,
     "start_time": "2023-01-24T08:24:24.554545",
     "status": "completed"
    },
    "tags": []
   },
   "outputs": [
    {
     "data": {
      "text/plain": [
       "Index(['age', 'sex', 'cp', 'trtbps', 'chol', 'fbs', 'restecg', 'thalachh',\n",
       "       'exng', 'oldpeak', 'slp', 'caa', 'thall'],\n",
       "      dtype='object')"
      ]
     },
     "execution_count": 53,
     "metadata": {},
     "output_type": "execute_result"
    }
   ],
   "source": [
    "x.columns"
   ]
  },
  {
   "cell_type": "code",
   "execution_count": 54,
   "id": "7e67f7f4",
   "metadata": {
    "execution": {
     "iopub.execute_input": "2023-01-24T08:24:24.639889Z",
     "iopub.status.busy": "2023-01-24T08:24:24.638795Z",
     "iopub.status.idle": "2023-01-24T08:24:27.975645Z",
     "shell.execute_reply": "2023-01-24T08:24:27.974795Z"
    },
    "papermill": {
     "duration": 3.364353,
     "end_time": "2023-01-24T08:24:27.977746",
     "exception": false,
     "start_time": "2023-01-24T08:24:24.613393",
     "status": "completed"
    },
    "tags": []
   },
   "outputs": [
    {
     "data": {
      "text/plain": [
       "[Text(0.5104166666666666, 0.9545454545454546, 'cp <= 0.5\\ngini = 0.496\\nsamples = 303\\nvalue = [138, 165]'),\n",
       " Text(0.2638888888888889, 0.8636363636363636, 'caa <= 0.5\\ngini = 0.397\\nsamples = 143\\nvalue = [104, 39]'),\n",
       " Text(0.16666666666666666, 0.7727272727272727, 'thall <= 2.5\\ngini = 0.499\\nsamples = 65\\nvalue = [31, 34]'),\n",
       " Text(0.09259259259259259, 0.6818181818181818, 'exng <= 0.5\\ngini = 0.361\\nsamples = 38\\nvalue = [9, 29]'),\n",
       " Text(0.037037037037037035, 0.5909090909090909, 'thalachh <= 96.5\\ngini = 0.153\\nsamples = 24\\nvalue = [2, 22]'),\n",
       " Text(0.018518518518518517, 0.5, 'gini = 0.0\\nsamples = 1\\nvalue = [1, 0]'),\n",
       " Text(0.05555555555555555, 0.5, 'chol <= 316.5\\ngini = 0.083\\nsamples = 23\\nvalue = [1, 22]'),\n",
       " Text(0.037037037037037035, 0.4090909090909091, 'gini = 0.0\\nsamples = 21\\nvalue = [0, 21]'),\n",
       " Text(0.07407407407407407, 0.4090909090909091, 'age <= 61.5\\ngini = 0.5\\nsamples = 2\\nvalue = [1, 1]'),\n",
       " Text(0.05555555555555555, 0.3181818181818182, 'gini = 0.0\\nsamples = 1\\nvalue = [1, 0]'),\n",
       " Text(0.09259259259259259, 0.3181818181818182, 'gini = 0.0\\nsamples = 1\\nvalue = [0, 1]'),\n",
       " Text(0.14814814814814814, 0.5909090909090909, 'restecg <= 0.5\\ngini = 0.5\\nsamples = 14\\nvalue = [7, 7]'),\n",
       " Text(0.12962962962962962, 0.5, 'gini = 0.0\\nsamples = 4\\nvalue = [0, 4]'),\n",
       " Text(0.16666666666666666, 0.5, 'slp <= 1.5\\ngini = 0.42\\nsamples = 10\\nvalue = [7, 3]'),\n",
       " Text(0.14814814814814814, 0.4090909090909091, 'trtbps <= 115.0\\ngini = 0.219\\nsamples = 8\\nvalue = [7, 1]'),\n",
       " Text(0.12962962962962962, 0.3181818181818182, 'gini = 0.0\\nsamples = 1\\nvalue = [0, 1]'),\n",
       " Text(0.16666666666666666, 0.3181818181818182, 'gini = 0.0\\nsamples = 7\\nvalue = [7, 0]'),\n",
       " Text(0.18518518518518517, 0.4090909090909091, 'gini = 0.0\\nsamples = 2\\nvalue = [0, 2]'),\n",
       " Text(0.24074074074074073, 0.6818181818181818, 'oldpeak <= 0.65\\ngini = 0.302\\nsamples = 27\\nvalue = [22, 5]'),\n",
       " Text(0.2222222222222222, 0.5909090909090909, 'age <= 42.0\\ngini = 0.5\\nsamples = 10\\nvalue = [5, 5]'),\n",
       " Text(0.2037037037037037, 0.5, 'gini = 0.0\\nsamples = 3\\nvalue = [3, 0]'),\n",
       " Text(0.24074074074074073, 0.5, 'chol <= 237.5\\ngini = 0.408\\nsamples = 7\\nvalue = [2, 5]'),\n",
       " Text(0.2222222222222222, 0.4090909090909091, 'gini = 0.0\\nsamples = 5\\nvalue = [0, 5]'),\n",
       " Text(0.25925925925925924, 0.4090909090909091, 'gini = 0.0\\nsamples = 2\\nvalue = [2, 0]'),\n",
       " Text(0.25925925925925924, 0.5909090909090909, 'gini = 0.0\\nsamples = 17\\nvalue = [17, 0]'),\n",
       " Text(0.3611111111111111, 0.7727272727272727, 'trtbps <= 109.0\\ngini = 0.12\\nsamples = 78\\nvalue = [73, 5]'),\n",
       " Text(0.3148148148148148, 0.6818181818181818, 'chol <= 233.5\\ngini = 0.48\\nsamples = 5\\nvalue = [3, 2]'),\n",
       " Text(0.2962962962962963, 0.5909090909090909, 'gini = 0.0\\nsamples = 2\\nvalue = [0, 2]'),\n",
       " Text(0.3333333333333333, 0.5909090909090909, 'gini = 0.0\\nsamples = 3\\nvalue = [3, 0]'),\n",
       " Text(0.4074074074074074, 0.6818181818181818, 'chol <= 301.5\\ngini = 0.079\\nsamples = 73\\nvalue = [70, 3]'),\n",
       " Text(0.37037037037037035, 0.5909090909090909, 'thalachh <= 105.5\\ngini = 0.032\\nsamples = 61\\nvalue = [60, 1]'),\n",
       " Text(0.35185185185185186, 0.5, 'oldpeak <= 0.6\\ngini = 0.219\\nsamples = 8\\nvalue = [7, 1]'),\n",
       " Text(0.3333333333333333, 0.4090909090909091, 'gini = 0.0\\nsamples = 1\\nvalue = [0, 1]'),\n",
       " Text(0.37037037037037035, 0.4090909090909091, 'gini = 0.0\\nsamples = 7\\nvalue = [7, 0]'),\n",
       " Text(0.3888888888888889, 0.5, 'gini = 0.0\\nsamples = 53\\nvalue = [53, 0]'),\n",
       " Text(0.4444444444444444, 0.5909090909090909, 'chol <= 303.5\\ngini = 0.278\\nsamples = 12\\nvalue = [10, 2]'),\n",
       " Text(0.42592592592592593, 0.5, 'gini = 0.0\\nsamples = 2\\nvalue = [0, 2]'),\n",
       " Text(0.46296296296296297, 0.5, 'gini = 0.0\\nsamples = 10\\nvalue = [10, 0]'),\n",
       " Text(0.7569444444444444, 0.8636363636363636, 'thall <= 2.5\\ngini = 0.335\\nsamples = 160\\nvalue = [34, 126]'),\n",
       " Text(0.6342592592592593, 0.7727272727272727, 'age <= 55.5\\ngini = 0.229\\nsamples = 121\\nvalue = [16, 105]'),\n",
       " Text(0.5555555555555556, 0.6818181818181818, 'oldpeak <= 3.55\\ngini = 0.076\\nsamples = 76\\nvalue = [3, 73]'),\n",
       " Text(0.5370370370370371, 0.5909090909090909, 'chol <= 153.0\\ngini = 0.052\\nsamples = 75\\nvalue = [2, 73]'),\n",
       " Text(0.5, 0.5, 'caa <= 1.5\\ngini = 0.5\\nsamples = 2\\nvalue = [1, 1]'),\n",
       " Text(0.48148148148148145, 0.4090909090909091, 'gini = 0.0\\nsamples = 1\\nvalue = [0, 1]'),\n",
       " Text(0.5185185185185185, 0.4090909090909091, 'gini = 0.0\\nsamples = 1\\nvalue = [1, 0]'),\n",
       " Text(0.5740740740740741, 0.5, 'trtbps <= 109.0\\ngini = 0.027\\nsamples = 73\\nvalue = [1, 72]'),\n",
       " Text(0.5555555555555556, 0.4090909090909091, 'chol <= 232.5\\ngini = 0.278\\nsamples = 6\\nvalue = [1, 5]'),\n",
       " Text(0.5370370370370371, 0.3181818181818182, 'gini = 0.0\\nsamples = 4\\nvalue = [0, 4]'),\n",
       " Text(0.5740740740740741, 0.3181818181818182, 'chol <= 255.0\\ngini = 0.5\\nsamples = 2\\nvalue = [1, 1]'),\n",
       " Text(0.5555555555555556, 0.22727272727272727, 'gini = 0.0\\nsamples = 1\\nvalue = [1, 0]'),\n",
       " Text(0.5925925925925926, 0.22727272727272727, 'gini = 0.0\\nsamples = 1\\nvalue = [0, 1]'),\n",
       " Text(0.5925925925925926, 0.4090909090909091, 'gini = 0.0\\nsamples = 67\\nvalue = [0, 67]'),\n",
       " Text(0.5740740740740741, 0.5909090909090909, 'gini = 0.0\\nsamples = 1\\nvalue = [1, 0]'),\n",
       " Text(0.7129629629629629, 0.6818181818181818, 'sex <= 0.5\\ngini = 0.411\\nsamples = 45\\nvalue = [13, 32]'),\n",
       " Text(0.6666666666666666, 0.5909090909090909, 'age <= 59.0\\ngini = 0.165\\nsamples = 22\\nvalue = [2, 20]'),\n",
       " Text(0.6481481481481481, 0.5, 'caa <= 0.5\\ngini = 0.48\\nsamples = 5\\nvalue = [2, 3]'),\n",
       " Text(0.6296296296296297, 0.4090909090909091, 'gini = 0.0\\nsamples = 3\\nvalue = [0, 3]'),\n",
       " Text(0.6666666666666666, 0.4090909090909091, 'gini = 0.0\\nsamples = 2\\nvalue = [2, 0]'),\n",
       " Text(0.6851851851851852, 0.5, 'gini = 0.0\\nsamples = 17\\nvalue = [0, 17]'),\n",
       " Text(0.7592592592592593, 0.5909090909090909, 'chol <= 245.5\\ngini = 0.499\\nsamples = 23\\nvalue = [11, 12]'),\n",
       " Text(0.7407407407407407, 0.5, 'caa <= 0.5\\ngini = 0.415\\nsamples = 17\\nvalue = [5, 12]'),\n",
       " Text(0.7037037037037037, 0.4090909090909091, 'oldpeak <= 2.65\\ngini = 0.153\\nsamples = 12\\nvalue = [1, 11]'),\n",
       " Text(0.6851851851851852, 0.3181818181818182, 'gini = 0.0\\nsamples = 11\\nvalue = [0, 11]'),\n",
       " Text(0.7222222222222222, 0.3181818181818182, 'gini = 0.0\\nsamples = 1\\nvalue = [1, 0]'),\n",
       " Text(0.7777777777777778, 0.4090909090909091, 'thalachh <= 132.5\\ngini = 0.32\\nsamples = 5\\nvalue = [4, 1]'),\n",
       " Text(0.7592592592592593, 0.3181818181818182, 'gini = 0.0\\nsamples = 1\\nvalue = [0, 1]'),\n",
       " Text(0.7962962962962963, 0.3181818181818182, 'gini = 0.0\\nsamples = 4\\nvalue = [4, 0]'),\n",
       " Text(0.7777777777777778, 0.5, 'gini = 0.0\\nsamples = 6\\nvalue = [6, 0]'),\n",
       " Text(0.8796296296296297, 0.7727272727272727, 'thalachh <= 142.5\\ngini = 0.497\\nsamples = 39\\nvalue = [18, 21]'),\n",
       " Text(0.8333333333333334, 0.6818181818181818, 'chol <= 311.0\\ngini = 0.219\\nsamples = 8\\nvalue = [7, 1]'),\n",
       " Text(0.8148148148148148, 0.5909090909090909, 'gini = 0.0\\nsamples = 7\\nvalue = [7, 0]'),\n",
       " Text(0.8518518518518519, 0.5909090909090909, 'gini = 0.0\\nsamples = 1\\nvalue = [0, 1]'),\n",
       " Text(0.9259259259259259, 0.6818181818181818, 'oldpeak <= 1.95\\ngini = 0.458\\nsamples = 31\\nvalue = [11, 20]'),\n",
       " Text(0.8888888888888888, 0.5909090909090909, 'trtbps <= 176.0\\ngini = 0.393\\nsamples = 26\\nvalue = [7, 19]'),\n",
       " Text(0.8703703703703703, 0.5, 'slp <= 1.5\\ngini = 0.33\\nsamples = 24\\nvalue = [5, 19]'),\n",
       " Text(0.8518518518518519, 0.4090909090909091, 'oldpeak <= 1.1\\ngini = 0.459\\nsamples = 14\\nvalue = [5, 9]'),\n",
       " Text(0.8333333333333334, 0.3181818181818182, 'trtbps <= 126.5\\ngini = 0.5\\nsamples = 10\\nvalue = [5, 5]'),\n",
       " Text(0.7962962962962963, 0.22727272727272727, 'oldpeak <= 0.9\\ngini = 0.32\\nsamples = 5\\nvalue = [1, 4]'),\n",
       " Text(0.7777777777777778, 0.13636363636363635, 'gini = 0.0\\nsamples = 4\\nvalue = [0, 4]'),\n",
       " Text(0.8148148148148148, 0.13636363636363635, 'gini = 0.0\\nsamples = 1\\nvalue = [1, 0]'),\n",
       " Text(0.8703703703703703, 0.22727272727272727, 'cp <= 2.5\\ngini = 0.32\\nsamples = 5\\nvalue = [4, 1]'),\n",
       " Text(0.8518518518518519, 0.13636363636363635, 'gini = 0.0\\nsamples = 3\\nvalue = [3, 0]'),\n",
       " Text(0.8888888888888888, 0.13636363636363635, 'age <= 61.5\\ngini = 0.5\\nsamples = 2\\nvalue = [1, 1]'),\n",
       " Text(0.8703703703703703, 0.045454545454545456, 'gini = 0.0\\nsamples = 1\\nvalue = [1, 0]'),\n",
       " Text(0.9074074074074074, 0.045454545454545456, 'gini = 0.0\\nsamples = 1\\nvalue = [0, 1]'),\n",
       " Text(0.8703703703703703, 0.3181818181818182, 'gini = 0.0\\nsamples = 4\\nvalue = [0, 4]'),\n",
       " Text(0.8888888888888888, 0.4090909090909091, 'gini = 0.0\\nsamples = 10\\nvalue = [0, 10]'),\n",
       " Text(0.9074074074074074, 0.5, 'gini = 0.0\\nsamples = 2\\nvalue = [2, 0]'),\n",
       " Text(0.9629629629629629, 0.5909090909090909, 'slp <= 0.5\\ngini = 0.32\\nsamples = 5\\nvalue = [4, 1]'),\n",
       " Text(0.9444444444444444, 0.5, 'gini = 0.0\\nsamples = 1\\nvalue = [0, 1]'),\n",
       " Text(0.9814814814814815, 0.5, 'gini = 0.0\\nsamples = 4\\nvalue = [4, 0]')]"
      ]
     },
     "execution_count": 54,
     "metadata": {},
     "output_type": "execute_result"
    },
    {
     "data": {
      "image/png": "[encoded data removed]",
      "text/plain": [
       "<Figure size 432x288 with 1 Axes>"
      ]
     },
     "metadata": {
      "needs_background": "light"
     },
     "output_type": "display_data"
    }
   ],
   "source": [
    "tree.plot_tree(dt,filled=True, feature_names=x.columns)"
   ]
  },
  {
   "cell_type": "code",
   "execution_count": 55,
   "id": "9844a288",
   "metadata": {
    "execution": {
     "iopub.execute_input": "2023-01-24T08:24:28.030962Z",
     "iopub.status.busy": "2023-01-24T08:24:28.029997Z",
     "iopub.status.idle": "2023-01-24T08:24:28.041246Z",
     "shell.execute_reply": "2023-01-24T08:24:28.039892Z"
    },
    "papermill": {
     "duration": 0.040666,
     "end_time": "2023-01-24T08:24:28.043938",
     "exception": false,
     "start_time": "2023-01-24T08:24:28.003272",
     "status": "completed"
    },
    "tags": []
   },
   "outputs": [
    {
     "data": {
      "text/plain": [
       "DecisionTreeClassifier()"
      ]
     },
     "execution_count": 55,
     "metadata": {},
     "output_type": "execute_result"
    }
   ],
   "source": [
    "dt.fit(x_train, y_train)"
   ]
  },
  {
   "cell_type": "code",
   "execution_count": 56,
   "id": "df939265",
   "metadata": {
    "execution": {
     "iopub.execute_input": "2023-01-24T08:24:28.096518Z",
     "iopub.status.busy": "2023-01-24T08:24:28.096160Z",
     "iopub.status.idle": "2023-01-24T08:24:28.105924Z",
     "shell.execute_reply": "2023-01-24T08:24:28.104583Z"
    },
    "papermill": {
     "duration": 0.038806,
     "end_time": "2023-01-24T08:24:28.108101",
     "exception": false,
     "start_time": "2023-01-24T08:24:28.069295",
     "status": "completed"
    },
    "tags": []
   },
   "outputs": [
    {
     "data": {
      "text/plain": [
       "1.0"
      ]
     },
     "execution_count": 56,
     "metadata": {},
     "output_type": "execute_result"
    }
   ],
   "source": [
    "dt.score(x_train, y_train)"
   ]
  },
  {
   "cell_type": "code",
   "execution_count": 57,
   "id": "8d4822fb",
   "metadata": {
    "execution": {
     "iopub.execute_input": "2023-01-24T08:24:28.161057Z",
     "iopub.status.busy": "2023-01-24T08:24:28.160731Z",
     "iopub.status.idle": "2023-01-24T08:24:28.168508Z",
     "shell.execute_reply": "2023-01-24T08:24:28.167689Z"
    },
    "papermill": {
     "duration": 0.037113,
     "end_time": "2023-01-24T08:24:28.170825",
     "exception": false,
     "start_time": "2023-01-24T08:24:28.133712",
     "status": "completed"
    },
    "tags": []
   },
   "outputs": [
    {
     "data": {
      "text/plain": [
       "array([0, 0, 0, 0, 1, 0, 1, 0, 0, 1, 1, 1, 1, 1, 1, 1, 1, 0, 0, 0, 0, 0,\n",
       "       1, 1, 1, 1, 0, 1, 0, 1, 0, 0, 0, 1, 1, 0, 0, 1, 1, 1, 1, 1, 1, 0,\n",
       "       1, 0, 0, 1, 0, 0, 0, 0, 0, 0, 0, 0, 0, 1, 0, 0, 0])"
      ]
     },
     "execution_count": 57,
     "metadata": {},
     "output_type": "execute_result"
    }
   ],
   "source": [
    "pred_dt=dt.predict(x_test)\n",
    "pred_dt"
   ]
  },
  {
   "cell_type": "code",
   "execution_count": 58,
   "id": "0ec983e7",
   "metadata": {
    "execution": {
     "iopub.execute_input": "2023-01-24T08:24:28.223784Z",
     "iopub.status.busy": "2023-01-24T08:24:28.223439Z",
     "iopub.status.idle": "2023-01-24T08:24:28.230163Z",
     "shell.execute_reply": "2023-01-24T08:24:28.228872Z"
    },
    "papermill": {
     "duration": 0.036096,
     "end_time": "2023-01-24T08:24:28.232584",
     "exception": false,
     "start_time": "2023-01-24T08:24:28.196488",
     "status": "completed"
    },
    "tags": []
   },
   "outputs": [
    {
     "name": "stdout",
     "output_type": "stream",
     "text": [
      "[[26  3]\n",
      " [ 8 24]]\n"
     ]
    }
   ],
   "source": [
    "print(confusion_matrix(y_test, pred_dt))"
   ]
  },
  {
   "cell_type": "code",
   "execution_count": 59,
   "id": "b0195b43",
   "metadata": {
    "execution": {
     "iopub.execute_input": "2023-01-24T08:24:28.286804Z",
     "iopub.status.busy": "2023-01-24T08:24:28.286418Z",
     "iopub.status.idle": "2023-01-24T08:24:28.447826Z",
     "shell.execute_reply": "2023-01-24T08:24:28.447029Z"
    },
    "papermill": {
     "duration": 0.190761,
     "end_time": "2023-01-24T08:24:28.449769",
     "exception": false,
     "start_time": "2023-01-24T08:24:28.259008",
     "status": "completed"
    },
    "tags": []
   },
   "outputs": [
    {
     "data": {
      "text/plain": [
       "<AxesSubplot:>"
      ]
     },
     "execution_count": 59,
     "metadata": {},
     "output_type": "execute_result"
    },
    {
     "data": {
      "image/png": "[encoded data removed]",
      "text/plain": [
       "<Figure size 432x288 with 2 Axes>"
      ]
     },
     "metadata": {
      "needs_background": "light"
     },
     "output_type": "display_data"
    }
   ],
   "source": [
    "cm = confusion_matrix(y_test, pred_dt)\n",
    "sns.heatmap(cm,annot=True)"
   ]
  },
  {
   "cell_type": "code",
   "execution_count": 60,
   "id": "20ee1614",
   "metadata": {
    "execution": {
     "iopub.execute_input": "2023-01-24T08:24:28.503598Z",
     "iopub.status.busy": "2023-01-24T08:24:28.502680Z",
     "iopub.status.idle": "2023-01-24T08:24:28.511272Z",
     "shell.execute_reply": "2023-01-24T08:24:28.509954Z"
    },
    "papermill": {
     "duration": 0.037861,
     "end_time": "2023-01-24T08:24:28.513464",
     "exception": false,
     "start_time": "2023-01-24T08:24:28.475603",
     "status": "completed"
    },
    "tags": []
   },
   "outputs": [
    {
     "name": "stdout",
     "output_type": "stream",
     "text": [
      "              precision    recall  f1-score   support\n",
      "\n",
      "           0       0.76      0.90      0.83        29\n",
      "           1       0.89      0.75      0.81        32\n",
      "\n",
      "    accuracy                           0.82        61\n",
      "   macro avg       0.83      0.82      0.82        61\n",
      "weighted avg       0.83      0.82      0.82        61\n",
      "\n"
     ]
    }
   ],
   "source": [
    "print(classification_report(y_test,pred_dt))"
   ]
  },
  {
   "cell_type": "code",
   "execution_count": 61,
   "id": "6acdcee3",
   "metadata": {
    "execution": {
     "iopub.execute_input": "2023-01-24T08:24:28.568920Z",
     "iopub.status.busy": "2023-01-24T08:24:28.567613Z",
     "iopub.status.idle": "2023-01-24T08:24:28.574709Z",
     "shell.execute_reply": "2023-01-24T08:24:28.573941Z"
    },
    "papermill": {
     "duration": 0.036936,
     "end_time": "2023-01-24T08:24:28.576483",
     "exception": false,
     "start_time": "2023-01-24T08:24:28.539547",
     "status": "completed"
    },
    "tags": []
   },
   "outputs": [
    {
     "data": {
      "text/plain": [
       "0.819672131147541"
      ]
     },
     "execution_count": 61,
     "metadata": {},
     "output_type": "execute_result"
    }
   ],
   "source": [
    "Decision_Tree_Accuracy = accuracy_score(y_test,pred_dt)\n",
    "Decision_Tree_Accuracy"
   ]
  },
  {
   "cell_type": "markdown",
   "id": "207c6d96",
   "metadata": {
    "papermill": {
     "duration": 0.025437,
     "end_time": "2023-01-24T08:24:28.627429",
     "exception": false,
     "start_time": "2023-01-24T08:24:28.601992",
     "status": "completed"
    },
    "tags": []
   },
   "source": [
    "## Support Vector Machine"
   ]
  },
  {
   "cell_type": "code",
   "execution_count": 62,
   "id": "b2c71e1a",
   "metadata": {
    "execution": {
     "iopub.execute_input": "2023-01-24T08:24:28.681605Z",
     "iopub.status.busy": "2023-01-24T08:24:28.680458Z",
     "iopub.status.idle": "2023-01-24T08:24:28.686102Z",
     "shell.execute_reply": "2023-01-24T08:24:28.684991Z"
    },
    "papermill": {
     "duration": 0.034857,
     "end_time": "2023-01-24T08:24:28.688294",
     "exception": false,
     "start_time": "2023-01-24T08:24:28.653437",
     "status": "completed"
    },
    "tags": []
   },
   "outputs": [],
   "source": [
    "svm = SVC(kernel='linear')\n",
    "# svm = SVC(kernel='rbf', gamma='auto')"
   ]
  },
  {
   "cell_type": "code",
   "execution_count": 63,
   "id": "a7c206d9",
   "metadata": {
    "execution": {
     "iopub.execute_input": "2023-01-24T08:24:28.742553Z",
     "iopub.status.busy": "2023-01-24T08:24:28.741564Z",
     "iopub.status.idle": "2023-01-24T08:24:29.066908Z",
     "shell.execute_reply": "2023-01-24T08:24:29.065900Z"
    },
    "papermill": {
     "duration": 0.355008,
     "end_time": "2023-01-24T08:24:29.069358",
     "exception": false,
     "start_time": "2023-01-24T08:24:28.714350",
     "status": "completed"
    },
    "tags": []
   },
   "outputs": [
    {
     "data": {
      "text/plain": [
       "SVC(kernel='linear')"
      ]
     },
     "execution_count": 63,
     "metadata": {},
     "output_type": "execute_result"
    }
   ],
   "source": [
    "svm.fit(x_train, y_train)"
   ]
  },
  {
   "cell_type": "code",
   "execution_count": 64,
   "id": "0aa55acc",
   "metadata": {
    "execution": {
     "iopub.execute_input": "2023-01-24T08:24:29.123127Z",
     "iopub.status.busy": "2023-01-24T08:24:29.122816Z",
     "iopub.status.idle": "2023-01-24T08:24:29.131781Z",
     "shell.execute_reply": "2023-01-24T08:24:29.130924Z"
    },
    "papermill": {
     "duration": 0.038241,
     "end_time": "2023-01-24T08:24:29.133703",
     "exception": false,
     "start_time": "2023-01-24T08:24:29.095462",
     "status": "completed"
    },
    "tags": []
   },
   "outputs": [
    {
     "data": {
      "text/plain": [
       "0.8688524590163934"
      ]
     },
     "execution_count": 64,
     "metadata": {},
     "output_type": "execute_result"
    }
   ],
   "source": [
    "svm.score(x_test, y_test)"
   ]
  },
  {
   "cell_type": "code",
   "execution_count": 65,
   "id": "1cdde646",
   "metadata": {
    "execution": {
     "iopub.execute_input": "2023-01-24T08:24:29.187889Z",
     "iopub.status.busy": "2023-01-24T08:24:29.187238Z",
     "iopub.status.idle": "2023-01-24T08:24:29.195011Z",
     "shell.execute_reply": "2023-01-24T08:24:29.194340Z"
    },
    "papermill": {
     "duration": 0.036862,
     "end_time": "2023-01-24T08:24:29.196828",
     "exception": false,
     "start_time": "2023-01-24T08:24:29.159966",
     "status": "completed"
    },
    "tags": []
   },
   "outputs": [
    {
     "data": {
      "text/plain": [
       "array([0, 1, 1, 0, 1, 1, 1, 0, 0, 1, 1, 0, 1, 0, 1, 1, 1, 0, 0, 0, 1, 0,\n",
       "       0, 1, 1, 1, 1, 1, 0, 1, 0, 0, 0, 0, 1, 0, 1, 1, 1, 1, 0, 1, 1, 1,\n",
       "       1, 0, 1, 1, 0, 0, 0, 0, 1, 1, 0, 0, 0, 1, 0, 0, 0])"
      ]
     },
     "execution_count": 65,
     "metadata": {},
     "output_type": "execute_result"
    }
   ],
   "source": [
    "pred_svm = svm.predict(x_test)\n",
    "pred_svm"
   ]
  },
  {
   "cell_type": "code",
   "execution_count": 66,
   "id": "01d03b33",
   "metadata": {
    "execution": {
     "iopub.execute_input": "2023-01-24T08:24:29.250807Z",
     "iopub.status.busy": "2023-01-24T08:24:29.250207Z",
     "iopub.status.idle": "2023-01-24T08:24:29.256513Z",
     "shell.execute_reply": "2023-01-24T08:24:29.254999Z"
    },
    "papermill": {
     "duration": 0.036405,
     "end_time": "2023-01-24T08:24:29.259277",
     "exception": false,
     "start_time": "2023-01-24T08:24:29.222872",
     "status": "completed"
    },
    "tags": []
   },
   "outputs": [
    {
     "name": "stdout",
     "output_type": "stream",
     "text": [
      "[[25  4]\n",
      " [ 4 28]]\n"
     ]
    }
   ],
   "source": [
    "print(confusion_matrix(y_test, pred_svm))"
   ]
  },
  {
   "cell_type": "code",
   "execution_count": 67,
   "id": "7ccd353a",
   "metadata": {
    "execution": {
     "iopub.execute_input": "2023-01-24T08:24:29.314104Z",
     "iopub.status.busy": "2023-01-24T08:24:29.313551Z",
     "iopub.status.idle": "2023-01-24T08:24:29.469470Z",
     "shell.execute_reply": "2023-01-24T08:24:29.468611Z"
    },
    "papermill": {
     "duration": 0.185005,
     "end_time": "2023-01-24T08:24:29.471017",
     "exception": false,
     "start_time": "2023-01-24T08:24:29.286012",
     "status": "completed"
    },
    "tags": []
   },
   "outputs": [
    {
     "data": {
      "text/plain": [
       "<AxesSubplot:>"
      ]
     },
     "execution_count": 67,
     "metadata": {},
     "output_type": "execute_result"
    },
    {
     "data": {
      "image/png": "[encoded data removed]",
      "text/plain": [
       "<Figure size 432x288 with 2 Axes>"
      ]
     },
     "metadata": {
      "needs_background": "light"
     },
     "output_type": "display_data"
    }
   ],
   "source": [
    "cm_svm = confusion_matrix(y_test, pred_svm)\n",
    "sns.heatmap(cm_svm,annot=True)"
   ]
  },
  {
   "cell_type": "code",
   "execution_count": 68,
   "id": "ac6d5b38",
   "metadata": {
    "execution": {
     "iopub.execute_input": "2023-01-24T08:24:29.524902Z",
     "iopub.status.busy": "2023-01-24T08:24:29.524327Z",
     "iopub.status.idle": "2023-01-24T08:24:29.533095Z",
     "shell.execute_reply": "2023-01-24T08:24:29.531361Z"
    },
    "papermill": {
     "duration": 0.040059,
     "end_time": "2023-01-24T08:24:29.536999",
     "exception": false,
     "start_time": "2023-01-24T08:24:29.496940",
     "status": "completed"
    },
    "tags": []
   },
   "outputs": [
    {
     "name": "stdout",
     "output_type": "stream",
     "text": [
      "              precision    recall  f1-score   support\n",
      "\n",
      "           0       0.86      0.86      0.86        29\n",
      "           1       0.88      0.88      0.88        32\n",
      "\n",
      "    accuracy                           0.87        61\n",
      "   macro avg       0.87      0.87      0.87        61\n",
      "weighted avg       0.87      0.87      0.87        61\n",
      "\n"
     ]
    }
   ],
   "source": [
    "print(classification_report(y_test,pred_svm))"
   ]
  },
  {
   "cell_type": "code",
   "execution_count": 69,
   "id": "7175a20c",
   "metadata": {
    "execution": {
     "iopub.execute_input": "2023-01-24T08:24:29.593850Z",
     "iopub.status.busy": "2023-01-24T08:24:29.593523Z",
     "iopub.status.idle": "2023-01-24T08:24:29.600616Z",
     "shell.execute_reply": "2023-01-24T08:24:29.599838Z"
    },
    "papermill": {
     "duration": 0.037052,
     "end_time": "2023-01-24T08:24:29.602293",
     "exception": false,
     "start_time": "2023-01-24T08:24:29.565241",
     "status": "completed"
    },
    "tags": []
   },
   "outputs": [
    {
     "data": {
      "text/plain": [
       "0.8688524590163934"
      ]
     },
     "execution_count": 69,
     "metadata": {},
     "output_type": "execute_result"
    }
   ],
   "source": [
    "SVM_Accuracy = accuracy_score(y_test,pred_svm)\n",
    "SVM_Accuracy"
   ]
  },
  {
   "cell_type": "markdown",
   "id": "b688998b",
   "metadata": {
    "papermill": {
     "duration": 0.026166,
     "end_time": "2023-01-24T08:24:29.654886",
     "exception": false,
     "start_time": "2023-01-24T08:24:29.628720",
     "status": "completed"
    },
    "tags": []
   },
   "source": [
    "## Summary of Machine Learning Algorithms"
   ]
  },
  {
   "cell_type": "code",
   "execution_count": 70,
   "id": "3c368fcd",
   "metadata": {
    "execution": {
     "iopub.execute_input": "2023-01-24T08:24:29.709532Z",
     "iopub.status.busy": "2023-01-24T08:24:29.709160Z",
     "iopub.status.idle": "2023-01-24T08:24:29.713765Z",
     "shell.execute_reply": "2023-01-24T08:24:29.713073Z"
    },
    "papermill": {
     "duration": 0.033915,
     "end_time": "2023-01-24T08:24:29.715397",
     "exception": false,
     "start_time": "2023-01-24T08:24:29.681482",
     "status": "completed"
    },
    "tags": []
   },
   "outputs": [],
   "source": [
    "MLA= ['SVM_Accuracy','Decision_Tree_Accuracy','Random_Forest_Accuracy','KNN_Accuracy','Logistic_Regression_Accuracy']\n",
    "Accuracy_Scores = [0.8688524590163934,0.819672131147541,0.819672131147541,0.6885245901639344,0.8852459016393442]"
   ]
  },
  {
   "cell_type": "code",
   "execution_count": 71,
   "id": "e2404361",
   "metadata": {
    "execution": {
     "iopub.execute_input": "2023-01-24T08:24:29.770118Z",
     "iopub.status.busy": "2023-01-24T08:24:29.769752Z",
     "iopub.status.idle": "2023-01-24T08:24:29.778995Z",
     "shell.execute_reply": "2023-01-24T08:24:29.778337Z"
    },
    "papermill": {
     "duration": 0.038826,
     "end_time": "2023-01-24T08:24:29.780587",
     "exception": false,
     "start_time": "2023-01-24T08:24:29.741761",
     "status": "completed"
    },
    "tags": []
   },
   "outputs": [
    {
     "data": {
      "text/html": [
       "<div>\n",
       "<style scoped>\n",
       "    .dataframe tbody tr th:only-of-type {\n",
       "        vertical-align: middle;\n",
       "    }\n",
       "\n",
       "    .dataframe tbody tr th {\n",
       "        vertical-align: top;\n",
       "    }\n",
       "\n",
       "    .dataframe thead th {\n",
       "        text-align: right;\n",
       "    }\n",
       "</style>\n",
       "<table border=\"1\" class=\"dataframe\">\n",
       "  <thead>\n",
       "    <tr style=\"text-align: right;\">\n",
       "      <th></th>\n",
       "      <th>ML</th>\n",
       "      <th>Accuracy</th>\n",
       "    </tr>\n",
       "  </thead>\n",
       "  <tbody>\n",
       "    <tr>\n",
       "      <th>0</th>\n",
       "      <td>SVM_Accuracy</td>\n",
       "      <td>0.868852</td>\n",
       "    </tr>\n",
       "    <tr>\n",
       "      <th>1</th>\n",
       "      <td>Decision_Tree_Accuracy</td>\n",
       "      <td>0.819672</td>\n",
       "    </tr>\n",
       "    <tr>\n",
       "      <th>2</th>\n",
       "      <td>Random_Forest_Accuracy</td>\n",
       "      <td>0.819672</td>\n",
       "    </tr>\n",
       "    <tr>\n",
       "      <th>3</th>\n",
       "      <td>KNN_Accuracy</td>\n",
       "      <td>0.688525</td>\n",
       "    </tr>\n",
       "    <tr>\n",
       "      <th>4</th>\n",
       "      <td>Logistic_Regression_Accuracy</td>\n",
       "      <td>0.885246</td>\n",
       "    </tr>\n",
       "  </tbody>\n",
       "</table>\n",
       "</div>"
      ],
      "text/plain": [
       "                             ML  Accuracy\n",
       "0                  SVM_Accuracy  0.868852\n",
       "1        Decision_Tree_Accuracy  0.819672\n",
       "2        Random_Forest_Accuracy  0.819672\n",
       "3                  KNN_Accuracy  0.688525\n",
       "4  Logistic_Regression_Accuracy  0.885246"
      ]
     },
     "execution_count": 71,
     "metadata": {},
     "output_type": "execute_result"
    }
   ],
   "source": [
    "data=pd.DataFrame(list(zip(MLA, Accuracy_Scores)), columns =['ML', 'Accuracy'])\n",
    "data"
   ]
  },
  {
   "cell_type": "code",
   "execution_count": 72,
   "id": "1477a95c",
   "metadata": {
    "execution": {
     "iopub.execute_input": "2023-01-24T08:24:29.834729Z",
     "iopub.status.busy": "2023-01-24T08:24:29.834399Z",
     "iopub.status.idle": "2023-01-24T08:24:29.975165Z",
     "shell.execute_reply": "2023-01-24T08:24:29.974181Z"
    },
    "papermill": {
     "duration": 0.170407,
     "end_time": "2023-01-24T08:24:29.977058",
     "exception": false,
     "start_time": "2023-01-24T08:24:29.806651",
     "status": "completed"
    },
    "tags": []
   },
   "outputs": [
    {
     "data": {
      "image/png": "[encoded data removed]",
      "text/plain": [
       "<Figure size 432x288 with 1 Axes>"
      ]
     },
     "metadata": {
      "needs_background": "light"
     },
     "output_type": "display_data"
    }
   ],
   "source": [
    "c = ['y','g','b','g','m']\n",
    "plt.bar(MLA, Accuracy_Scores, width=0.5,color=c)\n",
    "plt.xlabel('Machine Learning Algorithms')\n",
    "plt.ylabel('Accuracy Scores')\n",
    "plt.title('Machine Learning Algorithms Accuracy Score Chart')\n",
    "plt.xticks(rotation=55)\n",
    "plt.show()"
   ]
  },
  {
   "cell_type": "code",
   "execution_count": null,
   "id": "cef72db8",
   "metadata": {
    "papermill": {
     "duration": 0.027046,
     "end_time": "2023-01-24T08:24:30.032152",
     "exception": false,
     "start_time": "2023-01-24T08:24:30.005106",
     "status": "completed"
    },
    "tags": []
   },
   "outputs": [],
   "source": []
  }
 ],
 "metadata": {
  "kernelspec": {
   "display_name": "Python 3",
   "language": "python",
   "name": "python3"
  },
  "language_info": {
   "codemirror_mode": {
    "name": "ipython",
    "version": 3
   },
   "file_extension": ".py",
   "mimetype": "text/x-python",
   "name": "python",
   "nbconvert_exporter": "python",
   "pygments_lexer": "ipython3",
   "version": "3.7.12"
  },
  "papermill": {
   "default_parameters": {},
   "duration": 27.370691,
   "end_time": "2023-01-24T08:24:30.879551",
   "environment_variables": {},
   "exception": null,
   "input_path": "__notebook__.ipynb",
   "output_path": "__notebook__.ipynb",
   "parameters": {},
   "start_time": "2023-01-24T08:24:03.508860",
   "version": "2.3.4"
  }
 },
 "nbformat": 4,
 "nbformat_minor": 5
}
